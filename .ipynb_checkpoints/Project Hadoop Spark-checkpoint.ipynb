{
 "cells": [
  {
   "cell_type": "markdown",
   "id": "22b38e53",
   "metadata": {},
   "source": [
    "\n",
    "#### About this Dataset: Netflix is one of the most popular media and video streaming platforms.\n",
    "#### They have over 8000 movies or tv shows available on their platform, as of mid-2021, they have over 200M Subscribers globally.\n",
    "#### This tabular dataset consists of listings of all the movies and tv shows available on Netflix,\n",
    "#### along with details such as - cast, directors, ratings, release year, duration, etc.\n"
   ]
  },
  {
   "cell_type": "code",
   "execution_count": 1,
   "id": "927f3f58",
   "metadata": {},
   "outputs": [],
   "source": [
    "####  1.Show_id - Số thứ tự danh sách phim và tv show\n",
    "#### 2.Type - Thể loại phim và tv show\n",
    "#### 3.Title - Tiêu đề phim và tv show\n",
    "#### 4.Director - Đạo diển\n",
    "#### 5.Cast - Diễn viên\n",
    "#### 6.Country - Quốc gai\n",
    "#### 7.Date_added - Ngày thêm\n",
    "#### 8.Release_year - Ngày công chiếu\n",
    "#### 9.Rating - Lượt đánh giá\n",
    "#### 10.Duration - Khoản thời gian\n",
    "#### 11.Listed_in - Liệt kê trong\n",
    "#### 12.Description - Mô tả \n"
   ]
  },
  {
   "cell_type": "code",
   "execution_count": 2,
   "id": "f618ff1f",
   "metadata": {},
   "outputs": [],
   "source": [
    "#### import library\n",
    "from pyspark.sql import SparkSession"
   ]
  },
  {
   "cell_type": "code",
   "execution_count": 3,
   "id": "e054dc10",
   "metadata": {},
   "outputs": [],
   "source": [
    "spark = SparkSession.builder.appName('project').getOrCreate()"
   ]
  },
  {
   "cell_type": "code",
   "execution_count": 4,
   "id": "4b6170a2",
   "metadata": {},
   "outputs": [],
   "source": [
    "### Loading dataset\n",
    "from pyspark.sql.types import StructType, StructField,IntegerType,StringType,DateType"
   ]
  },
  {
   "cell_type": "code",
   "execution_count": 5,
   "id": "5edeb55c",
   "metadata": {},
   "outputs": [],
   "source": [
    "netflix_schema = StructType([\n",
    "     StructField('show_id',StringType(),True),\n",
    "     StructField('type',StringType(),True),\n",
    "     StructField('title',StringType(),True),\n",
    "     StructField('director',StringType(),True),\n",
    "     StructField('cast',StringType(),True),\n",
    "     StructField('country',StringType(),True),\n",
    "     StructField('date_added',StringType(),True),\n",
    "     StructField('release_year',StringType(),True),\n",
    "     StructField('rating',StringType(),True),\n",
    "     StructField('duration',StringType(),True),\n",
    "    StructField('listed_in',StringType(),True),\n",
    "    StructField('description',StringType(),True)\n",
    "    \n",
    "])\n",
    "\n",
    "netflix_df = spark.read.csv('netflix.csv',header=True,schema=netflix_schema)"
   ]
  },
  {
   "cell_type": "code",
   "execution_count": 6,
   "id": "deaadc37",
   "metadata": {},
   "outputs": [
    {
     "name": "stdout",
     "output_type": "stream",
     "text": [
      "Row(show_id='s1', type='Movie', title='Dick Johnson Is Dead', director='Kirsten Johnson', cast=None, country='United States', date_added='September 25, 2021', release_year='2020', rating='PG-13', duration='90 min', listed_in='Documentaries', description='As her father nears the end of his life, filmmaker Kirsten Johnson stages his death in inventive and comical ways to help them both face the inevitable.')\n",
      "\n",
      "\n",
      "Row(show_id='s2', type='TV Show', title='Blood & Water', director=None, cast='Ama Qamata, Khosi Ngema, Gail Mabalane, Thabang Molaba, Dillon Windvogel, Natasha Thahane, Arno Greeff, Xolile Tshabalala, Getmore Sithole, Cindy Mahlangu, Ryle De Morny, Greteli Fincham, Sello Maake Ka-Ncube, Odwa Gwanya, Mekaila Mathys, Sandi Schultz, Duane Williams, Shamilla Miller, Patrick Mofokeng', country='South Africa', date_added='September 24, 2021', release_year='2021', rating='TV-MA', duration='2 Seasons', listed_in='International TV Shows, TV Dramas, TV Mysteries', description='After crossing paths at a party, a Cape Town teen sets out to prove whether a private-school swimming star is her sister who was abducted at birth.')\n",
      "\n",
      "\n",
      "Row(show_id='s3', type='TV Show', title='Ganglands', director='Julien Leclercq', cast='Sami Bouajila, Tracy Gotoas, Samuel Jouy, Nabiha Akkari, Sofia Lesaffre, Salim Kechiouche, Noureddine Farihi, Geert Van Rampelberg, Bakary Diombera', country=None, date_added='September 24, 2021', release_year='2021', rating='TV-MA', duration='1 Season', listed_in='Crime TV Shows, International TV Shows, TV Action & Adventure', description='To protect his family from a powerful drug lord, skilled thief Mehdi and his expert team of robbers are pulled into a violent and deadly turf war.')\n",
      "\n",
      "\n",
      "Row(show_id='s4', type='TV Show', title='Jailbirds New Orleans', director=None, cast=None, country=None, date_added='September 24, 2021', release_year='2021', rating='TV-MA', duration='1 Season', listed_in='Docuseries, Reality TV', description='Feuds, flirtations and toilet talk go down among the incarcerated women at the Orleans Justice Center in New Orleans on this gritty reality series.')\n",
      "\n",
      "\n",
      "Row(show_id='s5', type='TV Show', title='Kota Factory', director=None, cast='Mayur More, Jitendra Kumar, Ranjan Raj, Alam Khan, Ahsaas Channa, Revathi Pillai, Urvi Singh, Arun Kumar', country='India', date_added='September 24, 2021', release_year='2021', rating='TV-MA', duration='2 Seasons', listed_in='International TV Shows, Romantic TV Shows, TV Comedies', description='In a city of coaching centers known to train India’s finest collegiate minds, an earnest but unexceptional student and his friends navigate campus life.')\n",
      "\n",
      "\n"
     ]
    }
   ],
   "source": [
    "### hiển thị 5 dòng đầu tiên\n",
    "#netflix_df.show(5)\n",
    "for i in netflix_df.head(5):\n",
    "    print(i)\n",
    "    print('\\n')"
   ]
  },
  {
   "cell_type": "code",
   "execution_count": 7,
   "id": "ef7a887b",
   "metadata": {},
   "outputs": [
    {
     "name": "stdout",
     "output_type": "stream",
     "text": [
      "root\n",
      " |-- show_id: string (nullable = true)\n",
      " |-- type: string (nullable = true)\n",
      " |-- title: string (nullable = true)\n",
      " |-- director: string (nullable = true)\n",
      " |-- cast: string (nullable = true)\n",
      " |-- country: string (nullable = true)\n",
      " |-- date_added: string (nullable = true)\n",
      " |-- release_year: string (nullable = true)\n",
      " |-- rating: string (nullable = true)\n",
      " |-- duration: string (nullable = true)\n",
      " |-- listed_in: string (nullable = true)\n",
      " |-- description: string (nullable = true)\n",
      "\n"
     ]
    }
   ],
   "source": [
    "### xem kiểu dữ liệu\n",
    "netflix_df.printSchema()"
   ]
  },
  {
   "cell_type": "code",
   "execution_count": 8,
   "id": "bb4343fc",
   "metadata": {},
   "outputs": [
    {
     "name": "stdout",
     "output_type": "stream",
     "text": [
      "+-------+----+-----+--------+----+-------+----------+------------+------+--------+---------+-----------+\n",
      "|show_id|type|title|director|cast|country|date_added|release_year|rating|duration|listed_in|description|\n",
      "+-------+----+-----+--------+----+-------+----------+------------+------+--------+---------+-----------+\n",
      "|      0|   1|    2|    2636| 826|    832|        13|           2|     6|       5|        3|          3|\n",
      "+-------+----+-----+--------+----+-------+----------+------------+------+--------+---------+-----------+\n",
      "\n"
     ]
    }
   ],
   "source": [
    "## check value null and nan\n",
    "\n",
    "from pyspark.sql.functions import col, count,when,isnan\n",
    "netflix_df.select([count(when(isnan(c) | col(c).isNull(),c)).alias(c) for c in netflix_df.columns]).show()"
   ]
  },
  {
   "cell_type": "code",
   "execution_count": 9,
   "id": "9b9f4f71",
   "metadata": {},
   "outputs": [],
   "source": [
    "## drop column"
   ]
  },
  {
   "cell_type": "code",
   "execution_count": 10,
   "id": "b504d1a3",
   "metadata": {},
   "outputs": [],
   "source": [
    "df3 = netflix_df.drop(netflix_df.director,netflix_df.show_id,netflix_df.description)"
   ]
  },
  {
   "cell_type": "code",
   "execution_count": 11,
   "id": "59a0382b",
   "metadata": {},
   "outputs": [
    {
     "name": "stdout",
     "output_type": "stream",
     "text": [
      "root\n",
      " |-- type: string (nullable = true)\n",
      " |-- title: string (nullable = true)\n",
      " |-- cast: string (nullable = true)\n",
      " |-- country: string (nullable = true)\n",
      " |-- date_added: string (nullable = true)\n",
      " |-- release_year: string (nullable = true)\n",
      " |-- rating: string (nullable = true)\n",
      " |-- duration: string (nullable = true)\n",
      " |-- listed_in: string (nullable = true)\n",
      "\n"
     ]
    }
   ],
   "source": [
    "df3.printSchema()\n"
   ]
  },
  {
   "cell_type": "code",
   "execution_count": 12,
   "id": "e4ea3494",
   "metadata": {},
   "outputs": [],
   "source": [
    "df3=df3.na.drop()"
   ]
  },
  {
   "cell_type": "code",
   "execution_count": 13,
   "id": "e8f624a5",
   "metadata": {},
   "outputs": [
    {
     "name": "stdout",
     "output_type": "stream",
     "text": [
      "+----+-----+----+-------+----------+------------+------+--------+---------+\n",
      "|type|title|cast|country|date_added|release_year|rating|duration|listed_in|\n",
      "+----+-----+----+-------+----------+------------+------+--------+---------+\n",
      "|   0|    0|   0|      0|         0|           0|     0|       0|        0|\n",
      "+----+-----+----+-------+----------+------------+------+--------+---------+\n",
      "\n"
     ]
    }
   ],
   "source": [
    "# check nan\n",
    "df3.select([count(when(isnan(c) | col(c).isNull(),c)).alias(c) for c in df3.columns]).show()"
   ]
  },
  {
   "cell_type": "code",
   "execution_count": 14,
   "id": "c6d81cbc",
   "metadata": {},
   "outputs": [
    {
     "name": "stdout",
     "output_type": "stream",
     "text": [
      "+----+-----+----+-------+----------+------------+------+--------+---------+\n",
      "|type|title|cast|country|date_added|release_year|rating|duration|listed_in|\n",
      "+----+-----+----+-------+----------+------------+------+--------+---------+\n",
      "|7290| 7290|7290|   7290|      7290|        7290|  7290|    7290|     7290|\n",
      "+----+-----+----+-------+----------+------------+------+--------+---------+\n",
      "\n"
     ]
    }
   ],
   "source": [
    "df3.select([count(c).alias(c) for c in df3.columns]).show()"
   ]
  },
  {
   "cell_type": "code",
   "execution_count": 15,
   "id": "bba666c6",
   "metadata": {},
   "outputs": [],
   "source": [
    "## rename column\n",
    "df3=df3.withColumnRenamed('type','Type').withColumnRenamed('title','Title').withColumnRenamed('cast','Cast') \\\n",
    "    .withColumnRenamed('country','Country').withColumnRenamed('date_added','Date_added').withColumnRenamed('release_year','Release_year') \\\n",
    "    .withColumnRenamed('rating','Rating').withColumnRenamed('duration','Duration').withColumnRenamed('listed_in','Listed_in')"
   ]
  },
  {
   "cell_type": "code",
   "execution_count": 16,
   "id": "6665e971",
   "metadata": {},
   "outputs": [
    {
     "name": "stdout",
     "output_type": "stream",
     "text": [
      "Row(Type='TV Show', Title='Blood & Water', Cast='Ama Qamata, Khosi Ngema, Gail Mabalane, Thabang Molaba, Dillon Windvogel, Natasha Thahane, Arno Greeff, Xolile Tshabalala, Getmore Sithole, Cindy Mahlangu, Ryle De Morny, Greteli Fincham, Sello Maake Ka-Ncube, Odwa Gwanya, Mekaila Mathys, Sandi Schultz, Duane Williams, Shamilla Miller, Patrick Mofokeng', Country='South Africa', Date_added='September 24, 2021', Release_year='2021', Rating='TV-MA', Duration='2 Seasons', Listed_in='International TV Shows, TV Dramas, TV Mysteries')\n",
      "\n",
      "\n",
      "Row(Type='TV Show', Title='Kota Factory', Cast='Mayur More, Jitendra Kumar, Ranjan Raj, Alam Khan, Ahsaas Channa, Revathi Pillai, Urvi Singh, Arun Kumar', Country='India', Date_added='September 24, 2021', Release_year='2021', Rating='TV-MA', Duration='2 Seasons', Listed_in='International TV Shows, Romantic TV Shows, TV Comedies')\n",
      "\n",
      "\n",
      "Row(Type='Movie', Title='Sankofa', Cast='Kofi Ghanaba, Oyafunmike Ogunlano, Alexandra Duah, Nick Medley, Mutabaruka, Afemo Omilami, Reggie Carter, Mzuri', Country='United States, Ghana, Burkina Faso, United Kingdom, Germany, Ethiopia', Date_added='September 24, 2021', Release_year='1993', Rating='TV-MA', Duration='125 min', Listed_in='Dramas, Independent Movies, International Movies')\n",
      "\n",
      "\n",
      "Row(Type='TV Show', Title='The Great British Baking Show', Cast='Mel Giedroyc, Sue Perkins, Mary Berry, Paul Hollywood', Country='United Kingdom', Date_added='September 24, 2021', Release_year='2021', Rating='TV-14', Duration='9 Seasons', Listed_in='British TV Shows, Reality TV')\n",
      "\n",
      "\n",
      "Row(Type='Movie', Title='The Starling', Cast=\"Melissa McCarthy, Chris O'Dowd, Kevin Kline, Timothy Olyphant, Daveed Diggs, Skyler Gisondo, Laura Harrier, Rosalind Chao, Kimberly Quinn, Loretta Devine, Ravi Kapoor\", Country='United States', Date_added='September 24, 2021', Release_year='2021', Rating='PG-13', Duration='104 min', Listed_in='Comedies, Dramas')\n",
      "\n",
      "\n"
     ]
    }
   ],
   "source": [
    "for i in df3.head(5):\n",
    "    print(i)\n",
    "    print('\\n')"
   ]
  },
  {
   "cell_type": "code",
   "execution_count": 17,
   "id": "b3c5083c",
   "metadata": {},
   "outputs": [
    {
     "name": "stdout",
     "output_type": "stream",
     "text": [
      "Row(Type='TV Show', Title='Blood & Water', Cast='Ama Qamata, Khosi Ngema, Gail Mabalane, Thabang Molaba, Dillon Windvogel, Natasha Thahane, Arno Greeff, Xolile Tshabalala, Getmore Sithole, Cindy Mahlangu, Ryle De Morny, Greteli Fincham, Sello Maake Ka-Ncube, Odwa Gwanya, Mekaila Mathys, Sandi Schultz, Duane Williams, Shamilla Miller, Patrick Mofokeng', Country='South Africa', Date_added='September 24, 2021', Release_year='2021', Rating='TV-MA', Duration='2 Seasons', Listed_in='International TV Shows, TV Dramas, TV Mysteries')\n",
      "\n",
      "\n",
      "Row(Type='TV Show', Title='Kota Factory', Cast='Mayur More, Jitendra Kumar, Ranjan Raj, Alam Khan, Ahsaas Channa, Revathi Pillai, Urvi Singh, Arun Kumar', Country='India', Date_added='September 24, 2021', Release_year='2021', Rating='TV-MA', Duration='2 Seasons', Listed_in='International TV Shows, Romantic TV Shows, TV Comedies')\n",
      "\n",
      "\n",
      "Row(Type='Movie', Title='Sankofa', Cast='Kofi Ghanaba, Oyafunmike Ogunlano, Alexandra Duah, Nick Medley, Mutabaruka, Afemo Omilami, Reggie Carter, Mzuri', Country='United States, Ghana, Burkina Faso, United Kingdom, Germany, Ethiopia', Date_added='September 24, 2021', Release_year='1993', Rating='TV-MA', Duration='125 min', Listed_in='Dramas, Independent Movies, International Movies')\n",
      "\n",
      "\n",
      "Row(Type='TV Show', Title='The Great British Baking Show', Cast='Mel Giedroyc, Sue Perkins, Mary Berry, Paul Hollywood', Country='United Kingdom', Date_added='September 24, 2021', Release_year='2021', Rating='TV-14', Duration='9 Seasons', Listed_in='British TV Shows, Reality TV')\n",
      "\n",
      "\n",
      "Row(Type='Movie', Title='The Starling', Cast=\"Melissa McCarthy, Chris O'Dowd, Kevin Kline, Timothy Olyphant, Daveed Diggs, Skyler Gisondo, Laura Harrier, Rosalind Chao, Kimberly Quinn, Loretta Devine, Ravi Kapoor\", Country='United States', Date_added='September 24, 2021', Release_year='2021', Rating='PG-13', Duration='104 min', Listed_in='Comedies, Dramas')\n",
      "\n",
      "\n"
     ]
    }
   ],
   "source": [
    "for i in df3.take(5):\n",
    "    print(i)\n",
    "    print('\\n')"
   ]
  },
  {
   "cell_type": "code",
   "execution_count": 24,
   "id": "2698738b",
   "metadata": {},
   "outputs": [],
   "source": [
    "# format String trim in column\n",
    "from pyspark.sql.functions import trim, initcap,col\n",
    "#df3 = df3.select([initcap(j) for j in df3.columns])\n",
    "df3 = df3.withColumn(\"Type\",trim(col(\"Type\")))\n",
    "df3 = df3.withColumn(\"Title\",trim(col(\"Title\")))\n",
    "df3 = df3.withColumn(\"Cast\",trim(col(\"Cast\"))) \n",
    "df3 = df3.withColumn(\"Country\",trim(col(\"Country\")))\n",
    "df3 = df3.withColumn(\"Date_added\",trim(col(\"Date_added\")))\n",
    "df3 = df3.withColumn(\"Release_year\",trim(col(\"Release_year\")))\n",
    "df3 = df3.withColumn(\"Rating\",trim(col(\"Rating\")))\n",
    "df3 = df3.withColumn(\"Duration\",trim(col(\"Duration\")))"
   ]
  },
  {
   "cell_type": "code",
   "execution_count": 21,
   "id": "1c3f6f59",
   "metadata": {},
   "outputs": [
    {
     "name": "stdout",
     "output_type": "stream",
     "text": [
      "+-------+--------------------+--------------------+--------------------+------------------+------------+------+---------+--------------------+\n",
      "|   Type|               Title|                Cast|             Country|        Date_added|Release_year|Rating| Duration|           Listed_in|\n",
      "+-------+--------------------+--------------------+--------------------+------------------+------------+------+---------+--------------------+\n",
      "|TV Show|       Blood & Water|Ama Qamata, Khosi...|        South Africa|September 24, 2021|        2021| TV-MA|2 Seasons|International TV ...|\n",
      "|TV Show|        Kota Factory|Mayur More, Jiten...|               India|September 24, 2021|        2021| TV-MA|2 Seasons|International TV ...|\n",
      "|  Movie|             Sankofa|Kofi Ghanaba, Oya...|United States, Gh...|September 24, 2021|        1993| TV-MA|  125 min|Dramas, Independe...|\n",
      "|TV Show|The Great British...|Mel Giedroyc, Sue...|      United Kingdom|September 24, 2021|        2021| TV-14|9 Seasons|British TV Shows,...|\n",
      "|  Movie|        The Starling|Melissa McCarthy,...|       United States|September 24, 2021|        2021| PG-13|  104 min|    Comedies, Dramas|\n",
      "|  Movie|        Je Suis Karl|Luna Wedler, Jann...|Germany, Czech Re...|September 23, 2021|        2021| TV-MA|  127 min|Dramas, Internati...|\n",
      "|TV Show|   Dear White People|Logan Browning, B...|       United States|September 22, 2021|        2021| TV-MA|4 Seasons|TV Comedies, TV D...|\n",
      "|TV Show|     Falsa identidad|Luis Ernesto Fran...|              Mexico|September 22, 2021|        2020| TV-MA|2 Seasons|Crime TV Shows, S...|\n",
      "|TV Show|Resurrection: Ert...|Engin Altan Düzya...|              Turkey|September 22, 2021|        2018| TV-14|5 Seasons|International TV ...|\n",
      "|  Movie|               Jeans|Prashanth, Aishwa...|               India|September 21, 2021|        1998| TV-14|  166 min|Comedies, Interna...|\n",
      "|TV Show|Love on the Spectrum|    Brooke Satchwell|           Australia|September 21, 2021|        2021| TV-14|2 Seasons|Docuseries, Inter...|\n",
      "|  Movie|           Grown Ups|Adam Sandler, Kev...|       United States|September 20, 2021|        2010| PG-13|  103 min|            Comedies|\n",
      "|  Movie|          Dark Skies|Keri Russell, Jos...|       United States|September 19, 2021|        2013| PG-13|   97 min|Horror Movies, Sc...|\n",
      "|  Movie|            Paranoia|Liam Hemsworth, G...|United States, In...|September 19, 2021|        2013| PG-13|  106 min|           Thrillers|\n",
      "|TV Show|       Sex Education|Asa Butterfield, ...|      United Kingdom|September 17, 2021|        2020| TV-MA|3 Seasons|British TV Shows,...|\n",
      "|TV Show|         Angry Birds|Antti Pääkkönen, ...|             Finland|September 16, 2021|        2018| TV-Y7| 1 Season|Kids' TV, TV Come...|\n",
      "|  Movie| Birth of the Dragon|Billy Magnussen, ...|China, Canada, Un...|September 16, 2021|        2017| PG-13|   96 min|Action & Adventur...|\n",
      "|TV Show|        Chhota Bheem|Vatsal Dubey, Jul...|               India|September 16, 2021|        2021| TV-Y7|3 Seasons|            Kids' TV|\n",
      "|TV Show|He-Man and the Ma...|Yuri Lowenthal, K...|       United States|September 16, 2021|        2021| TV-Y7| 1 Season|Kids' TV, TV Sci-...|\n",
      "|  Movie|                Jaws|Roy Scheider, Rob...|       United States|September 16, 2021|        1975|    PG|  124 min|Action & Adventur...|\n",
      "+-------+--------------------+--------------------+--------------------+------------------+------------+------+---------+--------------------+\n",
      "only showing top 20 rows\n",
      "\n"
     ]
    }
   ],
   "source": [
    "df3.show()"
   ]
  },
  {
   "cell_type": "code",
   "execution_count": 25,
   "id": "110272cf",
   "metadata": {},
   "outputs": [],
   "source": [
    "# format String initcap in column\n",
    "df3 = df3.withColumn(\"Type\",initcap(col(\"Type\")))\n",
    "df3 = df3.withColumn(\"Title\",initcap(col(\"Title\")))\n",
    "df3 = df3.withColumn(\"Cast\",initcap(col(\"Cast\"))) \n",
    "df3 = df3.withColumn(\"Country\",initcap(col(\"Country\")))\n",
    "df3 = df3.withColumn(\"Date_added\",initcap(col(\"Date_added\")))\n",
    "df3 = df3.withColumn(\"Release_year\",initcap(col(\"Release_year\")))\n",
    "df3 = df3.withColumn(\"Rating\",initcap(col(\"Rating\")))\n",
    "df3 = df3.withColumn(\"Duration\",initcap(col(\"Duration\")))"
   ]
  },
  {
   "cell_type": "code",
   "execution_count": 26,
   "id": "270f5dfe",
   "metadata": {},
   "outputs": [
    {
     "name": "stdout",
     "output_type": "stream",
     "text": [
      "+-------+--------------------+--------------------+--------------------+------------------+------------+------+---------+--------------------+\n",
      "|   Type|               Title|                Cast|             Country|        Date_added|Release_year|Rating| Duration|           Listed_in|\n",
      "+-------+--------------------+--------------------+--------------------+------------------+------------+------+---------+--------------------+\n",
      "|Tv Show|       Blood & Water|Ama Qamata, Khosi...|        South Africa|September 24, 2021|        2021| Tv-ma|2 Seasons|International TV ...|\n",
      "|Tv Show|        Kota Factory|Mayur More, Jiten...|               India|September 24, 2021|        2021| Tv-ma|2 Seasons|International TV ...|\n",
      "|  Movie|             Sankofa|Kofi Ghanaba, Oya...|United States, Gh...|September 24, 2021|        1993| Tv-ma|  125 Min|Dramas, Independe...|\n",
      "|Tv Show|The Great British...|Mel Giedroyc, Sue...|      United Kingdom|September 24, 2021|        2021| Tv-14|9 Seasons|British TV Shows,...|\n",
      "|  Movie|        The Starling|Melissa Mccarthy,...|       United States|September 24, 2021|        2021| Pg-13|  104 Min|    Comedies, Dramas|\n",
      "|  Movie|        Je Suis Karl|Luna Wedler, Jann...|Germany, Czech Re...|September 23, 2021|        2021| Tv-ma|  127 Min|Dramas, Internati...|\n",
      "|Tv Show|   Dear White People|Logan Browning, B...|       United States|September 22, 2021|        2021| Tv-ma|4 Seasons|TV Comedies, TV D...|\n",
      "|Tv Show|     Falsa Identidad|Luis Ernesto Fran...|              Mexico|September 22, 2021|        2020| Tv-ma|2 Seasons|Crime TV Shows, S...|\n",
      "|Tv Show|Resurrection: Ert...|Engin Altan Düzya...|              Turkey|September 22, 2021|        2018| Tv-14|5 Seasons|International TV ...|\n",
      "|  Movie|               Jeans|Prashanth, Aishwa...|               India|September 21, 2021|        1998| Tv-14|  166 Min|Comedies, Interna...|\n",
      "|Tv Show|Love On The Spectrum|    Brooke Satchwell|           Australia|September 21, 2021|        2021| Tv-14|2 Seasons|Docuseries, Inter...|\n",
      "|  Movie|           Grown Ups|Adam Sandler, Kev...|       United States|September 20, 2021|        2010| Pg-13|  103 Min|            Comedies|\n",
      "|  Movie|          Dark Skies|Keri Russell, Jos...|       United States|September 19, 2021|        2013| Pg-13|   97 Min|Horror Movies, Sc...|\n",
      "|  Movie|            Paranoia|Liam Hemsworth, G...|United States, In...|September 19, 2021|        2013| Pg-13|  106 Min|           Thrillers|\n",
      "|Tv Show|       Sex Education|Asa Butterfield, ...|      United Kingdom|September 17, 2021|        2020| Tv-ma|3 Seasons|British TV Shows,...|\n",
      "|Tv Show|         Angry Birds|Antti Pääkkönen, ...|             Finland|September 16, 2021|        2018| Tv-y7| 1 Season|Kids' TV, TV Come...|\n",
      "|  Movie| Birth Of The Dragon|Billy Magnussen, ...|China, Canada, Un...|September 16, 2021|        2017| Pg-13|   96 Min|Action & Adventur...|\n",
      "|Tv Show|        Chhota Bheem|Vatsal Dubey, Jul...|               India|September 16, 2021|        2021| Tv-y7|3 Seasons|            Kids' TV|\n",
      "|Tv Show|He-man And The Ma...|Yuri Lowenthal, K...|       United States|September 16, 2021|        2021| Tv-y7| 1 Season|Kids' TV, TV Sci-...|\n",
      "|  Movie|                Jaws|Roy Scheider, Rob...|       United States|September 16, 2021|        1975|    Pg|  124 Min|Action & Adventur...|\n",
      "+-------+--------------------+--------------------+--------------------+------------------+------------+------+---------+--------------------+\n",
      "only showing top 20 rows\n",
      "\n"
     ]
    }
   ],
   "source": [
    "df3.show()"
   ]
  },
  {
   "cell_type": "code",
   "execution_count": null,
   "id": "fa7eed43",
   "metadata": {},
   "outputs": [],
   "source": []
  },
  {
   "cell_type": "code",
   "execution_count": null,
   "id": "ee1f20ca",
   "metadata": {},
   "outputs": [],
   "source": []
  },
  {
   "cell_type": "code",
   "execution_count": null,
   "id": "a4245f2d",
   "metadata": {},
   "outputs": [],
   "source": []
  },
  {
   "cell_type": "code",
   "execution_count": null,
   "id": "d655f6ed",
   "metadata": {},
   "outputs": [],
   "source": [
    "from pyspark.sql.functions import *\n",
    "df4 = df3.groupBy(\"type\").count()\n",
    "df4.show()\n"
   ]
  },
  {
   "cell_type": "code",
   "execution_count": null,
   "id": "6cca3c55",
   "metadata": {},
   "outputs": [],
   "source": [
    "def pieplot(df, col, lim=10, yname=None):\n",
    "    \n",
    "    '''\n",
    "    This function makes a pie chart for the Spark dataframe df \n",
    "    for categorical column col only selecting top categories \n",
    "    as specified by lim. \n",
    "    '''\n",
    "    \n",
    "    # Grouping by the categories, counting on each categories \n",
    "    # and ordering them by the count\n",
    "    classes = df.groupBy(col).count().orderBy('count', ascending=False)\n",
    "    \n",
    "    # Take first 'lim' number of rows and convert to pandas  \n",
    "    pd_df = classes.limit(lim).toPandas()\n",
    "    \n",
    "    # Making plot \n",
    "    pd_df.plot(kind='pie', x=col, y='count', \\\n",
    "           labels=pd_df[col], legend=False)\n",
    "    plt.ylabel(None)\n",
    "    plt.show()"
   ]
  },
  {
   "cell_type": "code",
   "execution_count": null,
   "id": "d267edec",
   "metadata": {},
   "outputs": [],
   "source": [
    "pieplot(df3, 'type')"
   ]
  },
  {
   "cell_type": "code",
   "execution_count": null,
   "id": "6cbe4487",
   "metadata": {},
   "outputs": [],
   "source": []
  },
  {
   "cell_type": "code",
   "execution_count": null,
   "id": "98a707b1",
   "metadata": {},
   "outputs": [],
   "source": [
    "df5 = df3.select('type','country','release_year')\n",
    "df5.show()"
   ]
  },
  {
   "cell_type": "code",
   "execution_count": null,
   "id": "93855625",
   "metadata": {},
   "outputs": [],
   "source": [
    "import numpy as np\n",
    "import pandas as pd\n",
    "import matplotlib.pyplot as plt"
   ]
  },
  {
   "cell_type": "code",
   "execution_count": null,
   "id": "5237b34f",
   "metadata": {},
   "outputs": [],
   "source": []
  },
  {
   "cell_type": "code",
   "execution_count": null,
   "id": "d0f70dce",
   "metadata": {},
   "outputs": [],
   "source": []
  },
  {
   "cell_type": "code",
   "execution_count": null,
   "id": "989424d1",
   "metadata": {},
   "outputs": [],
   "source": []
  },
  {
   "cell_type": "code",
   "execution_count": null,
   "id": "55fe476e",
   "metadata": {},
   "outputs": [],
   "source": [
    "df = netflix_df.toPandas()"
   ]
  },
  {
   "cell_type": "code",
   "execution_count": null,
   "id": "3509b5ef",
   "metadata": {},
   "outputs": [],
   "source": [
    "for col in list(df.columns):\n",
    "    unique_value = df[col].unique()\n",
    "    if len(unique_value) < 15:\n",
    "        print('\\n')\n",
    "        print(col + ': ' + str(len(unique_value)) + 'Unique values ')\n",
    "        print(distinct_values)\n",
    "    else:\n",
    "        print(\"\\n\")\n",
    "        print(col + ': ' + str(len(unique_value)) + 'Unique values')"
   ]
  },
  {
   "cell_type": "code",
   "execution_count": null,
   "id": "9ca7829e",
   "metadata": {},
   "outputs": [],
   "source": [
    "####1- Handling missing values\n",
    "####2- Creation of new columns for date\n",
    "####3- Deleting variables\n",
    "####4- Extraction of words in texts-feature extration"
   ]
  },
  {
   "cell_type": "code",
   "execution_count": null,
   "id": "2fd031ee",
   "metadata": {},
   "outputs": [],
   "source": [
    "### Data Clearning\n",
    "######1- Handling missing values"
   ]
  },
  {
   "cell_type": "code",
   "execution_count": null,
   "id": "43f7a4fc",
   "metadata": {},
   "outputs": [],
   "source": [
    "import pandas as pd\n",
    "def func_calc_percentual(df):\n",
    "    mis_val = df.isnull().sum()\n",
    "\n",
    "    mis_val_percent = 100 * mis_val / len(df)\n",
    "    mis_val_dtype = df.dtypes\n",
    "    mis_val_table = pd.concat([mis_val, mis_val_percent], axis=1)\n",
    "    return mis_val_table.rename(\n",
    "    columns = {0 : 'Valores Ausentes', 1 : '% de Valores Ausentes'})\n",
    "print(func_calc_percentual(df))"
   ]
  },
  {
   "cell_type": "code",
   "execution_count": null,
   "id": "20064d42",
   "metadata": {},
   "outputs": [],
   "source": [
    "netflix_df.select([count(when(~isnan(c) & col(c).isNotNull() , c)).alias(c) for c in netflix_df.columns]).show()\n"
   ]
  },
  {
   "cell_type": "code",
   "execution_count": null,
   "id": "60a62380",
   "metadata": {},
   "outputs": [],
   "source": []
  }
 ],
 "metadata": {
  "kernelspec": {
   "display_name": "Python 3 (ipykernel)",
   "language": "python",
   "name": "python3"
  },
  "language_info": {
   "codemirror_mode": {
    "name": "ipython",
    "version": 3
   },
   "file_extension": ".py",
   "mimetype": "text/x-python",
   "name": "python",
   "nbconvert_exporter": "python",
   "pygments_lexer": "ipython3",
   "version": "3.9.7"
  }
 },
 "nbformat": 4,
 "nbformat_minor": 5
}
