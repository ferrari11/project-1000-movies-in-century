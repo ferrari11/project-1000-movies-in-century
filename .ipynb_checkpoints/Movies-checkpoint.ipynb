{
 "cells": [
  {
   "cell_type": "code",
   "execution_count": 1,
   "id": "6d5edbf8",
   "metadata": {},
   "outputs": [],
   "source": [
    "from pyspark.sql import SparkSession\n"
   ]
  },
  {
   "cell_type": "code",
   "execution_count": 2,
   "id": "8d3aeb08",
   "metadata": {},
   "outputs": [],
   "source": [
    "#import pandas as pd\n",
    "#import numpy as np\n",
    "import matplotlib.pyplot as plt\n",
    "import seaborn as sns\n",
    "%matplotlib inline"
   ]
  },
  {
   "cell_type": "code",
   "execution_count": 3,
   "id": "63c3991d",
   "metadata": {},
   "outputs": [],
   "source": [
    "spark = SparkSession.builder.appName('TMDB_movie').getOrCreate()"
   ]
  },
  {
   "cell_type": "code",
   "execution_count": 4,
   "id": "f506ff45",
   "metadata": {},
   "outputs": [],
   "source": [
    "from pyspark.sql.types import StructType,StructField, IntegerType,StringType,FloatType, DoubleType, DateType"
   ]
  },
  {
   "cell_type": "code",
   "execution_count": 5,
   "id": "6be0b40f",
   "metadata": {},
   "outputs": [],
   "source": [
    "movies_schema = StructType([\n",
    "                StructField('id',StringType(),True),\n",
    "                StructField('title',StringType(),True),\n",
    "                StructField('vote_average',FloatType(),True),\n",
    "                StructField('vote_count',IntegerType(),True),\n",
    "                StructField('status',StringType(),True),\n",
    "                StructField('release_date',StringType(),True),\n",
    "                StructField('revenue',DoubleType(),True),\n",
    "                StructField('runtime',IntegerType(),True),\n",
    "                StructField('adult',StringType(),True),\n",
    "                StructField('backdrop_path',StringType(),True),\n",
    "                StructField('budget',DoubleType(),True),\n",
    "                StructField('homepage',StringType(),True),\n",
    "                StructField('imdb_id',StringType(),True),\n",
    "                StructField('original_language',StringType(),True),\n",
    "                StructField('original_title',StringType(),True),\n",
    "                StructField('overview',StringType(),True),\n",
    "                StructField('popularity',FloatType(),True),\n",
    "                StructField('poster_path',StringType(),True),\n",
    "                StructField('tagline',StringType(),True),\n",
    "                StructField('genres',StringType(),True),\n",
    "                StructField('production_companies',StringType(),True),\n",
    "                StructField('production_countries',StringType(),True),\n",
    "                StructField('spoken_languages',StringType(),True)\n",
    "                \n",
    "])"
   ]
  },
  {
   "cell_type": "code",
   "execution_count": 6,
   "id": "fca785c4",
   "metadata": {},
   "outputs": [],
   "source": [
    "#https://www.kaggle.com/datasets/asaniczka/tmdb-movies-dataset-2023-930k-movies\n",
    "TMDB_movie = spark.read.csv('TMDB_movie.csv',header=True, schema=movies_schema)"
   ]
  },
  {
   "cell_type": "code",
   "execution_count": 7,
   "id": "3ad7f445",
   "metadata": {},
   "outputs": [
    {
     "data": {
      "text/plain": [
       "945123"
      ]
     },
     "execution_count": 7,
     "metadata": {},
     "output_type": "execute_result"
    }
   ],
   "source": [
    "TMDB_movie.count()"
   ]
  },
  {
   "cell_type": "code",
   "execution_count": 8,
   "id": "2dc9b4bc",
   "metadata": {},
   "outputs": [
    {
     "name": "stdout",
     "output_type": "stream",
     "text": [
      "root\n",
      " |-- id: string (nullable = true)\n",
      " |-- title: string (nullable = true)\n",
      " |-- vote_average: float (nullable = true)\n",
      " |-- vote_count: integer (nullable = true)\n",
      " |-- status: string (nullable = true)\n",
      " |-- release_date: string (nullable = true)\n",
      " |-- revenue: double (nullable = true)\n",
      " |-- runtime: integer (nullable = true)\n",
      " |-- adult: string (nullable = true)\n",
      " |-- backdrop_path: string (nullable = true)\n",
      " |-- budget: double (nullable = true)\n",
      " |-- homepage: string (nullable = true)\n",
      " |-- imdb_id: string (nullable = true)\n",
      " |-- original_language: string (nullable = true)\n",
      " |-- original_title: string (nullable = true)\n",
      " |-- overview: string (nullable = true)\n",
      " |-- popularity: float (nullable = true)\n",
      " |-- poster_path: string (nullable = true)\n",
      " |-- tagline: string (nullable = true)\n",
      " |-- genres: string (nullable = true)\n",
      " |-- production_companies: string (nullable = true)\n",
      " |-- production_countries: string (nullable = true)\n",
      " |-- spoken_languages: string (nullable = true)\n",
      "\n"
     ]
    }
   ],
   "source": [
    "TMDB_movie.printSchema()"
   ]
  },
  {
   "cell_type": "code",
   "execution_count": 9,
   "id": "5104b507",
   "metadata": {},
   "outputs": [
    {
     "name": "stdout",
     "output_type": "stream",
     "text": [
      "root\n",
      " |-- id: string (nullable = true)\n",
      " |-- title: string (nullable = true)\n",
      " |-- vote_average: float (nullable = true)\n",
      " |-- vote_count: integer (nullable = true)\n",
      " |-- release_date: string (nullable = true)\n",
      " |-- revenue: double (nullable = true)\n",
      " |-- runtime: integer (nullable = true)\n",
      " |-- budget: double (nullable = true)\n",
      " |-- original_language: string (nullable = true)\n",
      " |-- original_title: string (nullable = true)\n",
      " |-- popularity: float (nullable = true)\n",
      " |-- genres: string (nullable = true)\n",
      " |-- production_countries: string (nullable = true)\n",
      "\n"
     ]
    }
   ],
   "source": [
    "# xóa cac cột không cần thiết\n",
    "TMDB_movie = TMDB_movie.drop(TMDB_movie.status,TMDB_movie.adult,TMDB_movie.backdrop_path,TMDB_movie.homepage,TMDB_movie.imdb_id,TMDB_movie.overview,TMDB_movie.poster_path,TMDB_movie.tagline,TMDB_movie.production_companies,TMDB_movie.spoken_languages)\n",
    "TMDB_movie.printSchema()"
   ]
  },
  {
   "cell_type": "code",
   "execution_count": 10,
   "id": "01404455",
   "metadata": {},
   "outputs": [],
   "source": [
    "#1. Data Cleaning\n",
    "# Dữ liệu có thể có các vấn đề sau:\n",
    "#- Thiếu dữ liệu\n",
    "#- Nhập liệu sai\n",
    "#- Trùng lắp\n",
    "#- Định dạng sai\n",
    "#- Không liên quan (không cần thiết cho quá trình phân tích)\n",
    "# Xóa các thuộc tính không liên quan\n",
    "#Lọc dữ liệu theo text\n",
    "# Xóa dữ liệu outlier theo phân phối chuẩn\n",
    "# Xóa dữ liệu NA, NULL\n",
    "# Xóa dữ liệu trùng lắp\n",
    "# Dữ liệu bị thiếu (Missing Data)\n",
    "#2. Feature Engineering: có thể tạo ra tính năng mới bằng cách\n",
    "# Tổng các thuộc tính (Sum)\n",
    "# Hiệu các thuộc tính (Difference)\n",
    "# Tích các thuộc tính (Multiplication)\n",
    "# Thương các thuộc tính (Divide)\n",
    "# Tính toán tỷ lệ (Radio)\n",
    "# Dùng regular expresion extract (pyspark.sql.functions.regexp_extract)"
   ]
  },
  {
   "cell_type": "code",
   "execution_count": 11,
   "id": "a4baac91",
   "metadata": {},
   "outputs": [
    {
     "name": "stdout",
     "output_type": "stream",
     "text": [
      "Row(id='27205', title='Inception', vote_average=8.36400032043457, vote_count=34495, release_date='2010-07-15', revenue=825532764.0, runtime=148, budget=160000000.0, original_language='en', original_title='Inception', popularity=None, genres='Your mind is the scene of the crime.', production_countries='Legendary Pictures, Syncopy, Warner Bros. Pictures')\n",
      "\n",
      "\n",
      "Row(id='157336', title='Interstellar', vote_average=8.416999816894531, vote_count=32571, release_date='2014-11-05', revenue=701729206.0, runtime=169, budget=165000000.0, original_language='en', original_title='Interstellar', popularity=140.24099731445312, genres='Adventure, Drama, Science Fiction', production_countries='United Kingdom, United States of America')\n",
      "\n",
      "\n",
      "Row(id='155', title='The Dark Knight', vote_average=8.51200008392334, vote_count=30619, release_date='2008-07-16', revenue=1004558444.0, runtime=152, budget=185000000.0, original_language='en', original_title='The Dark Knight', popularity=130.64300537109375, genres='Drama, Action, Crime, Thriller', production_countries='United Kingdom, United States of America')\n",
      "\n",
      "\n",
      "Row(id='19995', title='Avatar', vote_average=7.572999954223633, vote_count=29815, release_date='2009-12-15', revenue=2923706026.0, runtime=162, budget=237000000.0, original_language='en', original_title='Avatar', popularity=79.93199920654297, genres='Action, Adventure, Fantasy, Science Fiction', production_countries='United States of America, United Kingdom')\n",
      "\n",
      "\n",
      "Row(id='24428', title='The Avengers', vote_average=7.710000038146973, vote_count=29166, release_date='2012-04-25', revenue=1518815515.0, runtime=143, budget=220000000.0, original_language='en', original_title='The Avengers', popularity=98.08200073242188, genres='Science Fiction, Action, Adventure', production_countries='United States of America')\n",
      "\n",
      "\n"
     ]
    }
   ],
   "source": [
    "# hiển thị 5 dòng đầu tiên\n",
    "for i in TMDB_movie.head(5):\n",
    "    print(i)\n",
    "    print('\\n')"
   ]
  },
  {
   "cell_type": "code",
   "execution_count": 12,
   "id": "3c0dd892",
   "metadata": {},
   "outputs": [
    {
     "name": "stdout",
     "output_type": "stream",
     "text": [
      "Row(id='27205', title='Inception', vote_average=8.36400032043457, vote_count=34495, release_date='2010-07-15', revenue=825532764.0, runtime=148, budget=160000000.0, original_language='en', original_title='Inception', popularity=None, genres='Your mind is the scene of the crime.', production_countries='Legendary Pictures, Syncopy, Warner Bros. Pictures')\n",
      "\n",
      "\n",
      "Row(id='157336', title='Interstellar', vote_average=8.416999816894531, vote_count=32571, release_date='2014-11-05', revenue=701729206.0, runtime=169, budget=165000000.0, original_language='en', original_title='Interstellar', popularity=140.24099731445312, genres='Adventure, Drama, Science Fiction', production_countries='United Kingdom, United States of America')\n",
      "\n",
      "\n",
      "Row(id='155', title='The Dark Knight', vote_average=8.51200008392334, vote_count=30619, release_date='2008-07-16', revenue=1004558444.0, runtime=152, budget=185000000.0, original_language='en', original_title='The Dark Knight', popularity=130.64300537109375, genres='Drama, Action, Crime, Thriller', production_countries='United Kingdom, United States of America')\n",
      "\n",
      "\n",
      "Row(id='19995', title='Avatar', vote_average=7.572999954223633, vote_count=29815, release_date='2009-12-15', revenue=2923706026.0, runtime=162, budget=237000000.0, original_language='en', original_title='Avatar', popularity=79.93199920654297, genres='Action, Adventure, Fantasy, Science Fiction', production_countries='United States of America, United Kingdom')\n",
      "\n",
      "\n",
      "Row(id='24428', title='The Avengers', vote_average=7.710000038146973, vote_count=29166, release_date='2012-04-25', revenue=1518815515.0, runtime=143, budget=220000000.0, original_language='en', original_title='The Avengers', popularity=98.08200073242188, genres='Science Fiction, Action, Adventure', production_countries='United States of America')\n",
      "\n",
      "\n"
     ]
    }
   ],
   "source": [
    "# hiển thị 5 dòng cuối\n",
    "for i in TMDB_movie.take(5):\n",
    "    print(i)\n",
    "    print('\\n')\n",
    "    "
   ]
  },
  {
   "cell_type": "code",
   "execution_count": 13,
   "id": "575b9457",
   "metadata": {},
   "outputs": [],
   "source": [
    "# check dữ liệu null\n",
    "from pyspark.sql.functions import count,col,when,isnan"
   ]
  },
  {
   "cell_type": "code",
   "execution_count": 14,
   "id": "a84b1945",
   "metadata": {},
   "outputs": [
    {
     "name": "stdout",
     "output_type": "stream",
     "text": [
      "+---+-----+------------+----------+------------+-------+-------+------+-----------------+--------------+----------+------+--------------------+\n",
      "| id|title|vote_average|vote_count|release_date|revenue|runtime|budget|original_language|original_title|popularity|genres|production_countries|\n",
      "+---+-----+------------+----------+------------+-------+-------+------+-----------------+--------------+----------+------+--------------------+\n",
      "|  0|   12|          96|        98|       87594|     87|     29|    90|               74|            36|     50030|329577|              366134|\n",
      "+---+-----+------------+----------+------------+-------+-------+------+-----------------+--------------+----------+------+--------------------+\n",
      "\n"
     ]
    }
   ],
   "source": [
    "TMDB_movie.select([count(when(isnan(c) | col(c).isNull(),c)).alias(c) for c in TMDB_movie.columns]).show()"
   ]
  },
  {
   "cell_type": "code",
   "execution_count": 15,
   "id": "fbab87e6",
   "metadata": {},
   "outputs": [],
   "source": [
    "#### drop columns na\n",
    "movies_dropna = TMDB_movie.na.drop()"
   ]
  },
  {
   "cell_type": "code",
   "execution_count": 68,
   "id": "c74a360f",
   "metadata": {},
   "outputs": [
    {
     "data": {
      "text/plain": [
       "431358"
      ]
     },
     "execution_count": 68,
     "metadata": {},
     "output_type": "execute_result"
    }
   ],
   "source": []
  },
  {
   "cell_type": "code",
   "execution_count": 75,
   "id": "fcdd1b1c",
   "metadata": {},
   "outputs": [
    {
     "name": "stdout",
     "output_type": "stream",
     "text": [
      "Distinct count: 431358\n"
     ]
    }
   ],
   "source": [
    "# cehck duplicate\n",
    "movies_dup = movies_dropna.distinct()\n",
    "print('Distinct count: ' + str(movies_dup.count()))"
   ]
  },
  {
   "cell_type": "code",
   "execution_count": 76,
   "id": "a6fdb6f2",
   "metadata": {},
   "outputs": [
    {
     "name": "stdout",
     "output_type": "stream",
     "text": [
      "+---+-----+------------+----------+------------+-------+-------+------+-----------------+--------------+----------+------+--------------------+\n",
      "| id|title|vote_average|vote_count|release_date|revenue|runtime|budget|original_language|original_title|popularity|genres|production_countries|\n",
      "+---+-----+------------+----------+------------+-------+-------+------+-----------------+--------------+----------+------+--------------------+\n",
      "|  0|    1|           0|         0|           0|      0|      0|     0|                0|             1|         0|     0|                   0|\n",
      "+---+-----+------------+----------+------------+-------+-------+------+-----------------+--------------+----------+------+--------------------+\n",
      "\n"
     ]
    }
   ],
   "source": [
    "# check nan\n",
    "movies_dropna.select([count(when(isnan(c) | col(c).isNull(),c)).alias(c) for c in movies_dropna.columns]).show()"
   ]
  },
  {
   "cell_type": "code",
   "execution_count": 77,
   "id": "381d83a1",
   "metadata": {},
   "outputs": [
    {
     "name": "stdout",
     "output_type": "stream",
     "text": [
      "+------+------+------------+----------+------------+-------+-------+------+-----------------+--------------+----------+------+--------------------+\n",
      "|    id| title|vote_average|vote_count|release_date|revenue|runtime|budget|original_language|original_title|popularity|genres|production_countries|\n",
      "+------+------+------------+----------+------------+-------+-------+------+-----------------+--------------+----------+------+--------------------+\n",
      "|431358|431358|      431358|    431358|      431358| 431358| 431358|431358|           431358|        431358|    431358|431358|              431358|\n",
      "+------+------+------------+----------+------------+-------+-------+------+-----------------+--------------+----------+------+--------------------+\n",
      "\n"
     ]
    }
   ],
   "source": [
    "movies_dropna.select([count(c).alias(c) for c in movies_dropna.columns]).show()"
   ]
  },
  {
   "cell_type": "code",
   "execution_count": 18,
   "id": "b4e748ae",
   "metadata": {},
   "outputs": [
    {
     "name": "stdout",
     "output_type": "stream",
     "text": [
      "root\n",
      " |-- ID: string (nullable = true)\n",
      " |-- Title: string (nullable = true)\n",
      " |-- Vote_AVG: float (nullable = true)\n",
      " |-- Vote_count: integer (nullable = true)\n",
      " |-- Release_date: string (nullable = true)\n",
      " |-- Revenue: double (nullable = true)\n",
      " |-- Runtime: integer (nullable = true)\n",
      " |-- Budget: double (nullable = true)\n",
      " |-- original_language: string (nullable = true)\n",
      " |-- Original_title: string (nullable = true)\n",
      " |-- Popularity: float (nullable = true)\n",
      " |-- Genres: string (nullable = true)\n",
      " |-- Production_countries: string (nullable = true)\n",
      "\n"
     ]
    }
   ],
   "source": [
    "# rename columns\n",
    "movies = movies_dropna.withColumnRenamed('id','ID') \\\n",
    "                      .withColumnRenamed('title','Title') \\\n",
    "                      .withColumnRenamed('vote_average','Vote_AVG') \\\n",
    "                      .withColumnRenamed('vote_count','Vote_count') \\\n",
    "                      .withColumnRenamed('release_date','Release_date') \\\n",
    "                      .withColumnRenamed('revenue','Revenue') \\\n",
    "                      .withColumnRenamed('runtime','Runtime') \\\n",
    "                      .withColumnRenamed('budget','Budget') \\\n",
    "                      .withColumnRenamed('original_title','Original_title') \\\n",
    "                      .withColumnRenamed('popularity','Popularity') \\\n",
    "                      .withColumnRenamed('genres','Genres') \\\n",
    "                      .withColumnRenamed('production_countries','Production_countries')\n",
    "movies.printSchema()                  "
   ]
  },
  {
   "cell_type": "code",
   "execution_count": null,
   "id": "271caa6c",
   "metadata": {},
   "outputs": [],
   "source": []
  },
  {
   "cell_type": "code",
   "execution_count": 74,
   "id": "13242149",
   "metadata": {},
   "outputs": [],
   "source": [
    "# format String in column\n",
    "from pyspark.sql.functions import trim, initcap,col\n",
    "\n",
    "movies = movies.withColumn(\"Title\",trim(col(\"Title\")))\n",
    "movies = movies.withColumn(\"Release_date\",trim(col(\"Release_date\")))\n",
    "movies = movies.withColumn(\"Original_title\",trim(col(\"Original_title\")))\n",
    "movies = movies.withColumn(\"Genres\",trim(col(\"Genres\")))\n",
    "movies = movies.withColumn(\"Production_countries\",trim(col(\"Production_countries\")))"
   ]
  },
  {
   "cell_type": "code",
   "execution_count": 20,
   "id": "e17d2b89",
   "metadata": {},
   "outputs": [
    {
     "name": "stdout",
     "output_type": "stream",
     "text": [
      "root\n",
      " |-- ID: string (nullable = true)\n",
      " |-- Title: string (nullable = true)\n",
      " |-- Vote_AVG: float (nullable = true)\n",
      " |-- Vote_count: integer (nullable = true)\n",
      " |-- Release_date: string (nullable = true)\n",
      " |-- Revenue: double (nullable = true)\n",
      " |-- Runtime: integer (nullable = true)\n",
      " |-- Budget: double (nullable = true)\n",
      " |-- original_language: string (nullable = true)\n",
      " |-- Original_title: string (nullable = true)\n",
      " |-- Popularity: float (nullable = true)\n",
      " |-- Genres: string (nullable = true)\n",
      " |-- Production_countries: string (nullable = true)\n",
      " |-- Year: string (nullable = true)\n",
      " |-- Month: string (nullable = true)\n",
      " |-- Day: string (nullable = true)\n",
      "\n"
     ]
    }
   ],
   "source": [
    "# format Release date\n",
    "from pyspark.sql.functions import split\n",
    "movies = movies.withColumn('Year',split(movies['Release_date'],'-').getItem(0)) \\\n",
    "         .withColumn('Month',split(movies['Release_date'],'-').getItem(1)) \\\n",
    "         .withColumn('Day',split(movies['Release_date'],'-').getItem(2))\n",
    "movies.printSchema()"
   ]
  },
  {
   "cell_type": "code",
   "execution_count": 21,
   "id": "3e6b7cfd",
   "metadata": {},
   "outputs": [],
   "source": [
    "movies = movies.withColumn('Primary_genre',split(movies['Genres'],',').getItem(0))"
   ]
  },
  {
   "cell_type": "code",
   "execution_count": 22,
   "id": "a632d112",
   "metadata": {},
   "outputs": [
    {
     "name": "stdout",
     "output_type": "stream",
     "text": [
      "root\n",
      " |-- ID: string (nullable = true)\n",
      " |-- Title: string (nullable = true)\n",
      " |-- Vote_AVG: float (nullable = true)\n",
      " |-- Vote_count: integer (nullable = true)\n",
      " |-- Release_date: string (nullable = true)\n",
      " |-- Revenue: double (nullable = true)\n",
      " |-- Runtime: integer (nullable = true)\n",
      " |-- Budget: double (nullable = true)\n",
      " |-- original_language: string (nullable = true)\n",
      " |-- Original_title: string (nullable = true)\n",
      " |-- Popularity: float (nullable = true)\n",
      " |-- Genres: string (nullable = true)\n",
      " |-- Production_countries: string (nullable = true)\n",
      " |-- Year: string (nullable = true)\n",
      " |-- Month: string (nullable = true)\n",
      " |-- Day: string (nullable = true)\n",
      " |-- Primary_genre: string (nullable = true)\n",
      "\n"
     ]
    }
   ],
   "source": [
    "movies.printSchema()"
   ]
  },
  {
   "cell_type": "code",
   "execution_count": 23,
   "id": "dbd3e178",
   "metadata": {},
   "outputs": [],
   "source": [
    "movies_df =movies.toPandas()"
   ]
  },
  {
   "cell_type": "markdown",
   "id": "8791974c",
   "metadata": {},
   "source": [
    "# 3. Data Visualiazation"
   ]
  },
  {
   "cell_type": "markdown",
   "id": "9587fb51",
   "metadata": {},
   "source": [
    "#### Distribution of Numerical Features"
   ]
  },
  {
   "cell_type": "code",
   "execution_count": 24,
   "id": "318b232d",
   "metadata": {},
   "outputs": [
    {
     "data": {
      "image/png": "[encoded data removed]",
      "text/plain": [
       "<Figure size 1008x864 with 4 Axes>"
      ]
     },
     "metadata": {},
     "output_type": "display_data"
    }
   ],
   "source": [
    "sns.set(style='whitegrid')\n",
    "\n",
    "fig,axes = plt.subplots(nrows=2,ncols=2,figsize=(14,12))\n",
    "\n",
    "sns.histplot(data=movies_df,x='Budget',bins=30,ax=axes[0,0],kde=True,color='blue')\n",
    "plt.xlim(0,10000)\n",
    "axes[0,0].set_title('Distribution of Budget')\n",
    "\n",
    "sns.histplot(data=movies_df,x='Vote_count',bins=30,ax=axes[0,1],kde=True,color='green')\n",
    "axes[0,1].set_title('Distribution of Vote count')\n",
    "\n",
    "sns.histplot(data=movies_df,x='Revenue',bins=30, ax=axes[1,0],kde=True,color='red')\n",
    "axes[1,0].set_title('Distribution of revenue')\n",
    "\n",
    "sns.histplot(data=movies_df,x='Runtime',bins=30, ax=axes[1,1],kde=True,color='purple')\n",
    "axes[1,1].set_title('Distribution of runtime')\n",
    "plt.tight_layout()\n",
    "plt.show()"
   ]
  },
  {
   "cell_type": "code",
   "execution_count": 25,
   "id": "e547648c",
   "metadata": {},
   "outputs": [],
   "source": [
    "### Thể loại nào được xem nhiều nhất?\n",
    "### Quốc gian sản xuất phim nhiều nhất?\n",
    "### Năm nào có phim nhiều nhất và tháng?\n",
    "### Năm nào có doanh thu cao nhất?\n",
    "### Phim có lượt vote cao?\n",
    "### Top phim có lợi nhuận?"
   ]
  },
  {
   "cell_type": "markdown",
   "id": "34c5023c",
   "metadata": {},
   "source": [
    "### 3.1 Genres\n",
    "- Thể loại được xem nhiều nhất"
   ]
  },
  {
   "cell_type": "code",
   "execution_count": 26,
   "id": "bdfbc0c7",
   "metadata": {},
   "outputs": [
    {
     "data": {
      "image/png": "[encoded data removed]",
      "text/plain": [
       "<Figure size 864x432 with 1 Axes>"
      ]
     },
     "metadata": {},
     "output_type": "display_data"
    }
   ],
   "source": [
    "# thể loại phim xem nhiều nhất\n",
    "genre_df = movies.select('Genres','Popularity').groupby('Genres').agg({'Popularity':'sum'})\n",
    "genre_df = genre_df.sort('sum(Popularity)',ascending=False).toPandas().head(5)\n",
    "\n",
    "plt.figure(figsize=(12, 6))\n",
    "sns.barplot(data=genre_df,y='Genres', x='sum(Popularity)', palette=\"viridis\")\n",
    "plt.title('Monthly Distribution of Movie Releases')\n",
    "plt.xlabel('Popularity')\n",
    "plt.ylabel('Top genres')\n",
    "plt.show()\n",
    "\n"
   ]
  },
  {
   "cell_type": "markdown",
   "id": "b2432eb9",
   "metadata": {},
   "source": [
    "### 3.2. Quốc gia nào sản xuất fim nhiều nhất"
   ]
  },
  {
   "cell_type": "code",
   "execution_count": 27,
   "id": "719d1913",
   "metadata": {},
   "outputs": [
    {
     "data": {
      "image/png": "[encoded data removed]",
      "text/plain": [
       "<Figure size 864x432 with 1 Axes>"
      ]
     },
     "metadata": {},
     "output_type": "display_data"
    }
   ],
   "source": [
    "countries = movies.select('Production_countries','ID').groupby('Production_countries').agg({'ID':'sum'})\n",
    "countries = countries.sort('sum(ID)', ascending=False).toPandas().head(5)\n",
    "plt.figure(figsize=(12, 6))\n",
    "sns.barplot(data=countries,y='Production_countries', x='sum(ID)', palette=\"viridis\")\n",
    "plt.title('Top Production countries')\n",
    "plt.xlabel('Total')\n",
    "plt.ylabel('Top Product countries')\n",
    "plt.show()"
   ]
  },
  {
   "cell_type": "markdown",
   "id": "45c1cda3",
   "metadata": {},
   "source": [
    "### 3.2. Revenue of movies in each year"
   ]
  },
  {
   "cell_type": "code",
   "execution_count": 28,
   "id": "1c2b7e5a",
   "metadata": {},
   "outputs": [
    {
     "data": {
      "image/png": "[encoded data removed]",
      "text/plain": [
       "<Figure size 2160x720 with 1 Axes>"
      ]
     },
     "metadata": {},
     "output_type": "display_data"
    }
   ],
   "source": [
    "year = movies_df[['Year','Revenue']].sort_values(by='Revenue',ascending=False)\n",
    "plt.figure(figsize=(30,10))\n",
    "sns.barplot(data = year, x='Year',y='Revenue',palette = sns.color_palette(\"coolwarm\"))\n",
    "plt.title('Number of Movies Released Each Year')\n",
    "plt.xlabel('Release Year')\n",
    "plt.ylabel('Number of Movies')\n",
    "plt.xticks(rotation=90)\n",
    "plt.show()\n"
   ]
  },
  {
   "cell_type": "code",
   "execution_count": null,
   "id": "43a141d1",
   "metadata": {},
   "outputs": [],
   "source": []
  },
  {
   "cell_type": "code",
   "execution_count": null,
   "id": "00cdd49b",
   "metadata": {},
   "outputs": [],
   "source": []
  },
  {
   "cell_type": "markdown",
   "id": "7029b0bf",
   "metadata": {},
   "source": [
    "#### In 2003 movies made the highest revenue"
   ]
  },
  {
   "cell_type": "markdown",
   "id": "951f06bb",
   "metadata": {},
   "source": [
    "#### 3.4. Number of movies released each year (release_year).\n",
    "#### 3.5.Monthly distribution of movie releases (release_month)."
   ]
  },
  {
   "cell_type": "code",
   "execution_count": 31,
   "id": "5506a2ee",
   "metadata": {},
   "outputs": [
    {
     "data": {
      "image/png": "[encoded data removed]",
      "text/plain": [
       "<Figure size 1152x432 with 1 Axes>"
      ]
     },
     "metadata": {},
     "output_type": "display_data"
    },
    {
     "data": {
      "image/png": "[encoded data removed]",
      "text/plain": [
       "<Figure size 1152x432 with 1 Axes>"
      ]
     },
     "metadata": {},
     "output_type": "display_data"
    }
   ],
   "source": [
    "# Number of Movies Released Each Year\n",
    "\n",
    "plt.figure(figsize=(16,6))\n",
    "sns.countplot(data=movies_df, x='Year', palette=\"viridis\")\n",
    "plt.title('Number of Movies Released Each Year')\n",
    "plt.xlabel('Release Year')\n",
    "plt.ylabel('Number of Movies')\n",
    "plt.xticks(rotation=90)\n",
    "plt.show()\n",
    "\n",
    "# Monthly Distribution of Movie Releases\n",
    "plt.figure(figsize=(16, 6))\n",
    "sns.countplot(data=movies_df, x='Month', palette=\"viridis\")\n",
    "plt.title('Monthly Distribution of Movie Releases')\n",
    "plt.xlabel('Release Month')\n",
    "plt.ylabel('Number of Movies')\n",
    "plt.xticks(ticks=range(12), labels=['Jan', 'Feb', 'Mar', 'Apr', 'May', 'Jun', 'Jul', 'Aug', 'Sep', 'Oct', 'Nov', 'Dec'])\n",
    "plt.show()"
   ]
  },
  {
   "cell_type": "markdown",
   "id": "1cc677ff",
   "metadata": {},
   "source": [
    "##### The visualizations above provide insights into the time-based distribution of movie releases:\n",
    "###### Number of Movies Released Each Year:\n",
    "\n",
    "###### There's a steady increase in the number of movies released each year, with a noticeable peak ####### around 2014-2015.\n",
    "###### There's a sharp decline in 2016 and beyond, which might be due to incomplete data for these years.\n",
    "###### Monthly Distribution of Movie Releases:\n",
    "###### The most popular months for movie releases are January and September, followed by October and December.\n",
    "###### These trends might be related to the timing of film festivals, awards season, and holiday periods."
   ]
  },
  {
   "cell_type": "markdown",
   "id": "5d4e242f",
   "metadata": {},
   "source": [
    "### 3.6 The movies vote high"
   ]
  },
  {
   "cell_type": "code",
   "execution_count": 34,
   "id": "454866d4",
   "metadata": {},
   "outputs": [
    {
     "data": {
      "text/html": [
       "<div>\n",
       "<style scoped>\n",
       "    .dataframe tbody tr th:only-of-type {\n",
       "        vertical-align: middle;\n",
       "    }\n",
       "\n",
       "    .dataframe tbody tr th {\n",
       "        vertical-align: top;\n",
       "    }\n",
       "\n",
       "    .dataframe thead th {\n",
       "        text-align: right;\n",
       "    }\n",
       "</style>\n",
       "<table border=\"1\" class=\"dataframe\">\n",
       "  <thead>\n",
       "    <tr style=\"text-align: right;\">\n",
       "      <th></th>\n",
       "      <th>Title</th>\n",
       "      <th>Revenue</th>\n",
       "      <th>sum(Vote_count)</th>\n",
       "    </tr>\n",
       "  </thead>\n",
       "  <tbody>\n",
       "    <tr>\n",
       "      <th>0</th>\n",
       "      <td>Frozen</td>\n",
       "      <td>1.274219e+09</td>\n",
       "      <td>15520</td>\n",
       "    </tr>\n",
       "    <tr>\n",
       "      <th>1</th>\n",
       "      <td>Edge of Tomorrow</td>\n",
       "      <td>3.705413e+08</td>\n",
       "      <td>12828</td>\n",
       "    </tr>\n",
       "    <tr>\n",
       "      <th>2</th>\n",
       "      <td>Shazam!</td>\n",
       "      <td>3.660800e+08</td>\n",
       "      <td>8840</td>\n",
       "    </tr>\n",
       "    <tr>\n",
       "      <th>3</th>\n",
       "      <td>Die Hard: With a Vengeance</td>\n",
       "      <td>3.661017e+08</td>\n",
       "      <td>5604</td>\n",
       "    </tr>\n",
       "    <tr>\n",
       "      <th>4</th>\n",
       "      <td>The Great Wall</td>\n",
       "      <td>3.319571e+08</td>\n",
       "      <td>4748</td>\n",
       "    </tr>\n",
       "    <tr>\n",
       "      <th>5</th>\n",
       "      <td>Ghost Rider: Spirit of Vengeance</td>\n",
       "      <td>1.325639e+08</td>\n",
       "      <td>3538</td>\n",
       "    </tr>\n",
       "    <tr>\n",
       "      <th>6</th>\n",
       "      <td>The Emoji Movie</td>\n",
       "      <td>2.169098e+08</td>\n",
       "      <td>2832</td>\n",
       "    </tr>\n",
       "    <tr>\n",
       "      <th>7</th>\n",
       "      <td>Underwater</td>\n",
       "      <td>4.088293e+07</td>\n",
       "      <td>2813</td>\n",
       "    </tr>\n",
       "    <tr>\n",
       "      <th>8</th>\n",
       "      <td>Bridget Jones: The Edge of Reason</td>\n",
       "      <td>2.625000e+08</td>\n",
       "      <td>2574</td>\n",
       "    </tr>\n",
       "    <tr>\n",
       "      <th>9</th>\n",
       "      <td>Amores Perros</td>\n",
       "      <td>2.090847e+07</td>\n",
       "      <td>2335</td>\n",
       "    </tr>\n",
       "  </tbody>\n",
       "</table>\n",
       "</div>"
      ],
      "text/plain": [
       "                               Title       Revenue  sum(Vote_count)\n",
       "0                             Frozen  1.274219e+09            15520\n",
       "1                   Edge of Tomorrow  3.705413e+08            12828\n",
       "2                            Shazam!  3.660800e+08             8840\n",
       "3         Die Hard: With a Vengeance  3.661017e+08             5604\n",
       "4                     The Great Wall  3.319571e+08             4748\n",
       "5   Ghost Rider: Spirit of Vengeance  1.325639e+08             3538\n",
       "6                    The Emoji Movie  2.169098e+08             2832\n",
       "7                         Underwater  4.088293e+07             2813\n",
       "8  Bridget Jones: The Edge of Reason  2.625000e+08             2574\n",
       "9                      Amores Perros  2.090847e+07             2335"
      ]
     },
     "execution_count": 34,
     "metadata": {},
     "output_type": "execute_result"
    }
   ],
   "source": [
    "Top_vote = movies.select('Title','Revenue','Vote_count').groupby('Title','Revenue') \\\n",
    "                 .agg({'Vote_count':'sum'}).toPandas().head(10)"
   ]
  },
  {
   "cell_type": "code",
   "execution_count": null,
   "id": "07ecde09",
   "metadata": {},
   "outputs": [],
   "source": []
  },
  {
   "cell_type": "code",
   "execution_count": 37,
   "id": "e166fa4e",
   "metadata": {},
   "outputs": [
    {
     "data": {
      "image/png": "[encoded data removed]",
      "text/plain": [
       "<Figure size 1152x432 with 2 Axes>"
      ]
     },
     "metadata": {},
     "output_type": "display_data"
    }
   ],
   "source": [
    "ax1 = sns.set_style(style=None, rc=None )\n",
    "fig, ax1 = plt.subplots(figsize=(16,6))\n",
    "sns.lineplot(data = Top_vote['Revenue'], marker='o', sort = False, ax=ax1)\n",
    "ax2 = ax1.twinx()\n",
    "sns.barplot(data=Top_vote,x='Title', y='sum(Vote_count)',alpha=0.5, ax=ax2)\n",
    "plt.xticks(rotation=90)\n",
    "plt.title('Monthly Distribution of Movie Releases')\n",
    "plt.xlabel('Title')\n",
    "plt.ylabel('Vote count')\n",
    "plt.show()"
   ]
  },
  {
   "cell_type": "code",
   "execution_count": 40,
   "id": "eebd134c",
   "metadata": {},
   "outputs": [
    {
     "data": {
      "text/html": [
       "<div>\n",
       "<style scoped>\n",
       "    .dataframe tbody tr th:only-of-type {\n",
       "        vertical-align: middle;\n",
       "    }\n",
       "\n",
       "    .dataframe tbody tr th {\n",
       "        vertical-align: top;\n",
       "    }\n",
       "\n",
       "    .dataframe thead th {\n",
       "        text-align: right;\n",
       "    }\n",
       "</style>\n",
       "<table border=\"1\" class=\"dataframe\">\n",
       "  <thead>\n",
       "    <tr style=\"text-align: right;\">\n",
       "      <th></th>\n",
       "      <th>ID</th>\n",
       "      <th>Title</th>\n",
       "      <th>Vote_AVG</th>\n",
       "      <th>Vote_count</th>\n",
       "      <th>Release_date</th>\n",
       "      <th>Revenue</th>\n",
       "      <th>Runtime</th>\n",
       "      <th>Budget</th>\n",
       "      <th>original_language</th>\n",
       "      <th>Original_title</th>\n",
       "      <th>Popularity</th>\n",
       "      <th>Genres</th>\n",
       "      <th>Production_countries</th>\n",
       "      <th>Year</th>\n",
       "      <th>Month</th>\n",
       "      <th>Day</th>\n",
       "      <th>Primary_genre</th>\n",
       "      <th>profit</th>\n",
       "    </tr>\n",
       "  </thead>\n",
       "  <tbody>\n",
       "    <tr>\n",
       "      <th>0</th>\n",
       "      <td>157336</td>\n",
       "      <td>Interstellar</td>\n",
       "      <td>8.417</td>\n",
       "      <td>32571</td>\n",
       "      <td>2014-11-05</td>\n",
       "      <td>7.017292e+08</td>\n",
       "      <td>169</td>\n",
       "      <td>165000000.0</td>\n",
       "      <td>en</td>\n",
       "      <td>Interstellar</td>\n",
       "      <td>140.240997</td>\n",
       "      <td>Adventure, Drama, Science Fiction</td>\n",
       "      <td>United Kingdom, United States of America</td>\n",
       "      <td>2014</td>\n",
       "      <td>11</td>\n",
       "      <td>05</td>\n",
       "      <td>Adventure</td>\n",
       "      <td>5.367292e+08</td>\n",
       "    </tr>\n",
       "    <tr>\n",
       "      <th>1</th>\n",
       "      <td>155</td>\n",
       "      <td>The Dark Knight</td>\n",
       "      <td>8.512</td>\n",
       "      <td>30619</td>\n",
       "      <td>2008-07-16</td>\n",
       "      <td>1.004558e+09</td>\n",
       "      <td>152</td>\n",
       "      <td>185000000.0</td>\n",
       "      <td>en</td>\n",
       "      <td>The Dark Knight</td>\n",
       "      <td>130.643005</td>\n",
       "      <td>Drama, Action, Crime, Thriller</td>\n",
       "      <td>United Kingdom, United States of America</td>\n",
       "      <td>2008</td>\n",
       "      <td>07</td>\n",
       "      <td>16</td>\n",
       "      <td>Drama</td>\n",
       "      <td>8.195584e+08</td>\n",
       "    </tr>\n",
       "    <tr>\n",
       "      <th>2</th>\n",
       "      <td>19995</td>\n",
       "      <td>Avatar</td>\n",
       "      <td>7.573</td>\n",
       "      <td>29815</td>\n",
       "      <td>2009-12-15</td>\n",
       "      <td>2.923706e+09</td>\n",
       "      <td>162</td>\n",
       "      <td>237000000.0</td>\n",
       "      <td>en</td>\n",
       "      <td>Avatar</td>\n",
       "      <td>79.931999</td>\n",
       "      <td>Action, Adventure, Fantasy, Science Fiction</td>\n",
       "      <td>United States of America, United Kingdom</td>\n",
       "      <td>2009</td>\n",
       "      <td>12</td>\n",
       "      <td>15</td>\n",
       "      <td>Action</td>\n",
       "      <td>2.686706e+09</td>\n",
       "    </tr>\n",
       "    <tr>\n",
       "      <th>3</th>\n",
       "      <td>24428</td>\n",
       "      <td>The Avengers</td>\n",
       "      <td>7.710</td>\n",
       "      <td>29166</td>\n",
       "      <td>2012-04-25</td>\n",
       "      <td>1.518816e+09</td>\n",
       "      <td>143</td>\n",
       "      <td>220000000.0</td>\n",
       "      <td>en</td>\n",
       "      <td>The Avengers</td>\n",
       "      <td>98.082001</td>\n",
       "      <td>Science Fiction, Action, Adventure</td>\n",
       "      <td>United States of America</td>\n",
       "      <td>2012</td>\n",
       "      <td>04</td>\n",
       "      <td>25</td>\n",
       "      <td>Science Fiction</td>\n",
       "      <td>1.298816e+09</td>\n",
       "    </tr>\n",
       "    <tr>\n",
       "      <th>4</th>\n",
       "      <td>293660</td>\n",
       "      <td>Deadpool</td>\n",
       "      <td>7.606</td>\n",
       "      <td>28894</td>\n",
       "      <td>2016-02-09</td>\n",
       "      <td>7.831000e+08</td>\n",
       "      <td>108</td>\n",
       "      <td>58000000.0</td>\n",
       "      <td>en</td>\n",
       "      <td>Deadpool</td>\n",
       "      <td>72.735001</td>\n",
       "      <td>Action, Adventure, Comedy</td>\n",
       "      <td>United States of America</td>\n",
       "      <td>2016</td>\n",
       "      <td>02</td>\n",
       "      <td>09</td>\n",
       "      <td>Action</td>\n",
       "      <td>7.251000e+08</td>\n",
       "    </tr>\n",
       "    <tr>\n",
       "      <th>...</th>\n",
       "      <td>...</td>\n",
       "      <td>...</td>\n",
       "      <td>...</td>\n",
       "      <td>...</td>\n",
       "      <td>...</td>\n",
       "      <td>...</td>\n",
       "      <td>...</td>\n",
       "      <td>...</td>\n",
       "      <td>...</td>\n",
       "      <td>...</td>\n",
       "      <td>...</td>\n",
       "      <td>...</td>\n",
       "      <td>...</td>\n",
       "      <td>...</td>\n",
       "      <td>...</td>\n",
       "      <td>...</td>\n",
       "      <td>...</td>\n",
       "      <td>...</td>\n",
       "    </tr>\n",
       "    <tr>\n",
       "      <th>431353</th>\n",
       "      <td>1192155</td>\n",
       "      <td>Floating World</td>\n",
       "      <td>0.000</td>\n",
       "      <td>0</td>\n",
       "      <td>2008-05-29</td>\n",
       "      <td>0.000000e+00</td>\n",
       "      <td>16</td>\n",
       "      <td>0.0</td>\n",
       "      <td>es</td>\n",
       "      <td>Mundo flotante</td>\n",
       "      <td>0.600000</td>\n",
       "      <td>Drama</td>\n",
       "      <td>Mexico</td>\n",
       "      <td>2008</td>\n",
       "      <td>05</td>\n",
       "      <td>29</td>\n",
       "      <td>Drama</td>\n",
       "      <td>0.000000e+00</td>\n",
       "    </tr>\n",
       "    <tr>\n",
       "      <th>431354</th>\n",
       "      <td>1192159</td>\n",
       "      <td>Taxiphone</td>\n",
       "      <td>0.000</td>\n",
       "      <td>0</td>\n",
       "      <td>2010-03-02</td>\n",
       "      <td>0.000000e+00</td>\n",
       "      <td>0</td>\n",
       "      <td>0.0</td>\n",
       "      <td>de</td>\n",
       "      <td>Taxiphone</td>\n",
       "      <td>0.600000</td>\n",
       "      <td>Drama</td>\n",
       "      <td>Algeria, Switzerland</td>\n",
       "      <td>2010</td>\n",
       "      <td>03</td>\n",
       "      <td>02</td>\n",
       "      <td>Drama</td>\n",
       "      <td>0.000000e+00</td>\n",
       "    </tr>\n",
       "    <tr>\n",
       "      <th>431355</th>\n",
       "      <td>1192151</td>\n",
       "      <td>Im Nordwind</td>\n",
       "      <td>0.000</td>\n",
       "      <td>0</td>\n",
       "      <td>2023-11-16</td>\n",
       "      <td>0.000000e+00</td>\n",
       "      <td>0</td>\n",
       "      <td>0.0</td>\n",
       "      <td>de</td>\n",
       "      <td>Im Nordwind</td>\n",
       "      <td>1.104000</td>\n",
       "      <td>Drama</td>\n",
       "      <td>Switzerland</td>\n",
       "      <td>2023</td>\n",
       "      <td>11</td>\n",
       "      <td>16</td>\n",
       "      <td>Drama</td>\n",
       "      <td>0.000000e+00</td>\n",
       "    </tr>\n",
       "    <tr>\n",
       "      <th>431356</th>\n",
       "      <td>1192123</td>\n",
       "      <td>Afonso Padilha: Nada Planejado</td>\n",
       "      <td>0.000</td>\n",
       "      <td>0</td>\n",
       "      <td>2023-10-15</td>\n",
       "      <td>0.000000e+00</td>\n",
       "      <td>0</td>\n",
       "      <td>0.0</td>\n",
       "      <td>pt</td>\n",
       "      <td>Afonso Padilha: Nada Planejado</td>\n",
       "      <td>1.960000</td>\n",
       "      <td>Comedy</td>\n",
       "      <td>Brazil</td>\n",
       "      <td>2023</td>\n",
       "      <td>10</td>\n",
       "      <td>15</td>\n",
       "      <td>Comedy</td>\n",
       "      <td>0.000000e+00</td>\n",
       "    </tr>\n",
       "    <tr>\n",
       "      <th>431357</th>\n",
       "      <td>1192154</td>\n",
       "      <td>Dead Ringer</td>\n",
       "      <td>0.000</td>\n",
       "      <td>0</td>\n",
       "      <td>2023-10-08</td>\n",
       "      <td>0.000000e+00</td>\n",
       "      <td>4</td>\n",
       "      <td>0.0</td>\n",
       "      <td>en</td>\n",
       "      <td>Dead Ringer</td>\n",
       "      <td>1.960000</td>\n",
       "      <td>Horror</td>\n",
       "      <td>Canada</td>\n",
       "      <td>2023</td>\n",
       "      <td>10</td>\n",
       "      <td>08</td>\n",
       "      <td>Horror</td>\n",
       "      <td>0.000000e+00</td>\n",
       "    </tr>\n",
       "  </tbody>\n",
       "</table>\n",
       "<p>431358 rows × 18 columns</p>\n",
       "</div>"
      ],
      "text/plain": [
       "             ID                           Title  Vote_AVG  Vote_count  \\\n",
       "0        157336                    Interstellar     8.417       32571   \n",
       "1           155                 The Dark Knight     8.512       30619   \n",
       "2         19995                          Avatar     7.573       29815   \n",
       "3         24428                    The Avengers     7.710       29166   \n",
       "4        293660                        Deadpool     7.606       28894   \n",
       "...         ...                             ...       ...         ...   \n",
       "431353  1192155                  Floating World     0.000           0   \n",
       "431354  1192159                       Taxiphone     0.000           0   \n",
       "431355  1192151                     Im Nordwind     0.000           0   \n",
       "431356  1192123  Afonso Padilha: Nada Planejado     0.000           0   \n",
       "431357  1192154                     Dead Ringer     0.000           0   \n",
       "\n",
       "       Release_date       Revenue  Runtime       Budget original_language  \\\n",
       "0        2014-11-05  7.017292e+08      169  165000000.0                en   \n",
       "1        2008-07-16  1.004558e+09      152  185000000.0                en   \n",
       "2        2009-12-15  2.923706e+09      162  237000000.0                en   \n",
       "3        2012-04-25  1.518816e+09      143  220000000.0                en   \n",
       "4        2016-02-09  7.831000e+08      108   58000000.0                en   \n",
       "...             ...           ...      ...          ...               ...   \n",
       "431353   2008-05-29  0.000000e+00       16          0.0                es   \n",
       "431354   2010-03-02  0.000000e+00        0          0.0                de   \n",
       "431355   2023-11-16  0.000000e+00        0          0.0                de   \n",
       "431356   2023-10-15  0.000000e+00        0          0.0                pt   \n",
       "431357   2023-10-08  0.000000e+00        4          0.0                en   \n",
       "\n",
       "                        Original_title  Popularity  \\\n",
       "0                         Interstellar  140.240997   \n",
       "1                      The Dark Knight  130.643005   \n",
       "2                               Avatar   79.931999   \n",
       "3                         The Avengers   98.082001   \n",
       "4                             Deadpool   72.735001   \n",
       "...                                ...         ...   \n",
       "431353                  Mundo flotante    0.600000   \n",
       "431354                       Taxiphone    0.600000   \n",
       "431355                     Im Nordwind    1.104000   \n",
       "431356  Afonso Padilha: Nada Planejado    1.960000   \n",
       "431357                     Dead Ringer    1.960000   \n",
       "\n",
       "                                             Genres  \\\n",
       "0                 Adventure, Drama, Science Fiction   \n",
       "1                    Drama, Action, Crime, Thriller   \n",
       "2       Action, Adventure, Fantasy, Science Fiction   \n",
       "3                Science Fiction, Action, Adventure   \n",
       "4                         Action, Adventure, Comedy   \n",
       "...                                             ...   \n",
       "431353                                        Drama   \n",
       "431354                                        Drama   \n",
       "431355                                        Drama   \n",
       "431356                                       Comedy   \n",
       "431357                                       Horror   \n",
       "\n",
       "                            Production_countries  Year Month Day  \\\n",
       "0       United Kingdom, United States of America  2014    11  05   \n",
       "1       United Kingdom, United States of America  2008    07  16   \n",
       "2       United States of America, United Kingdom  2009    12  15   \n",
       "3                       United States of America  2012    04  25   \n",
       "4                       United States of America  2016    02  09   \n",
       "...                                          ...   ...   ...  ..   \n",
       "431353                                    Mexico  2008    05  29   \n",
       "431354                      Algeria, Switzerland  2010    03  02   \n",
       "431355                               Switzerland  2023    11  16   \n",
       "431356                                    Brazil  2023    10  15   \n",
       "431357                                    Canada  2023    10  08   \n",
       "\n",
       "          Primary_genre        profit  \n",
       "0             Adventure  5.367292e+08  \n",
       "1                 Drama  8.195584e+08  \n",
       "2                Action  2.686706e+09  \n",
       "3       Science Fiction  1.298816e+09  \n",
       "4                Action  7.251000e+08  \n",
       "...                 ...           ...  \n",
       "431353            Drama  0.000000e+00  \n",
       "431354            Drama  0.000000e+00  \n",
       "431355            Drama  0.000000e+00  \n",
       "431356           Comedy  0.000000e+00  \n",
       "431357           Horror  0.000000e+00  \n",
       "\n",
       "[431358 rows x 18 columns]"
      ]
     },
     "execution_count": 40,
     "metadata": {},
     "output_type": "execute_result"
    }
   ],
   "source": [
    "## phim có lợi nhuận\n",
    "movies_df['profit'] = movies_df['Revenue']-movies_df['Budget']\n",
    "movies_df"
   ]
  },
  {
   "cell_type": "code",
   "execution_count": 60,
   "id": "86ab4470",
   "metadata": {},
   "outputs": [],
   "source": [
    "pt = movies_df[['Title','profit']].sort_values(by='profit', ascending=False).head()"
   ]
  },
  {
   "cell_type": "code",
   "execution_count": null,
   "id": "7ca9cf5a",
   "metadata": {},
   "outputs": [],
   "source": []
  },
  {
   "cell_type": "code",
   "execution_count": 61,
   "id": "286b043b",
   "metadata": {},
   "outputs": [
    {
     "data": {
      "image/png": "[encoded data removed]",
      "text/plain": [
       "<Figure size 864x432 with 1 Axes>"
      ]
     },
     "metadata": {},
     "output_type": "display_data"
    }
   ],
   "source": [
    "plt.figure(figsize=(12, 6))\n",
    "sns.barplot(data=pt,y='Title', x='profit', palette=\"viridis\")\n",
    "plt.title('Top Production countries')\n",
    "plt.xlabel('Total')\n",
    "plt.ylabel('Top Product countries')\n",
    "plt.show()"
   ]
  },
  {
   "cell_type": "code",
   "execution_count": 45,
   "id": "8aadeb58",
   "metadata": {
    "scrolled": true
   },
   "outputs": [
    {
     "data": {
      "text/html": [
       "<div>\n",
       "<style scoped>\n",
       "    .dataframe tbody tr th:only-of-type {\n",
       "        vertical-align: middle;\n",
       "    }\n",
       "\n",
       "    .dataframe tbody tr th {\n",
       "        vertical-align: top;\n",
       "    }\n",
       "\n",
       "    .dataframe thead th {\n",
       "        text-align: right;\n",
       "    }\n",
       "</style>\n",
       "<table border=\"1\" class=\"dataframe\">\n",
       "  <thead>\n",
       "    <tr style=\"text-align: right;\">\n",
       "      <th></th>\n",
       "      <th>ID</th>\n",
       "      <th>Title</th>\n",
       "      <th>Vote_AVG</th>\n",
       "      <th>Vote_count</th>\n",
       "      <th>Release_date</th>\n",
       "      <th>Revenue</th>\n",
       "      <th>Runtime</th>\n",
       "      <th>Budget</th>\n",
       "      <th>original_language</th>\n",
       "      <th>Original_title</th>\n",
       "      <th>Popularity</th>\n",
       "      <th>Genres</th>\n",
       "      <th>Production_countries</th>\n",
       "      <th>Year</th>\n",
       "      <th>Month</th>\n",
       "      <th>Day</th>\n",
       "      <th>Primary_genre</th>\n",
       "      <th>profit</th>\n",
       "    </tr>\n",
       "  </thead>\n",
       "  <tbody>\n",
       "    <tr>\n",
       "      <th>0</th>\n",
       "      <td>157336</td>\n",
       "      <td>Interstellar</td>\n",
       "      <td>8.417</td>\n",
       "      <td>32571</td>\n",
       "      <td>2014-11-05</td>\n",
       "      <td>7.017292e+08</td>\n",
       "      <td>169</td>\n",
       "      <td>165000000.0</td>\n",
       "      <td>en</td>\n",
       "      <td>Interstellar</td>\n",
       "      <td>140.240997</td>\n",
       "      <td>Adventure, Drama, Science Fiction</td>\n",
       "      <td>United Kingdom, United States of America</td>\n",
       "      <td>2014</td>\n",
       "      <td>11</td>\n",
       "      <td>05</td>\n",
       "      <td>Adventure</td>\n",
       "      <td>5.367292e+08</td>\n",
       "    </tr>\n",
       "    <tr>\n",
       "      <th>1</th>\n",
       "      <td>155</td>\n",
       "      <td>The Dark Knight</td>\n",
       "      <td>8.512</td>\n",
       "      <td>30619</td>\n",
       "      <td>2008-07-16</td>\n",
       "      <td>1.004558e+09</td>\n",
       "      <td>152</td>\n",
       "      <td>185000000.0</td>\n",
       "      <td>en</td>\n",
       "      <td>The Dark Knight</td>\n",
       "      <td>130.643005</td>\n",
       "      <td>Drama, Action, Crime, Thriller</td>\n",
       "      <td>United Kingdom, United States of America</td>\n",
       "      <td>2008</td>\n",
       "      <td>07</td>\n",
       "      <td>16</td>\n",
       "      <td>Drama</td>\n",
       "      <td>8.195584e+08</td>\n",
       "    </tr>\n",
       "    <tr>\n",
       "      <th>2</th>\n",
       "      <td>19995</td>\n",
       "      <td>Avatar</td>\n",
       "      <td>7.573</td>\n",
       "      <td>29815</td>\n",
       "      <td>2009-12-15</td>\n",
       "      <td>2.923706e+09</td>\n",
       "      <td>162</td>\n",
       "      <td>237000000.0</td>\n",
       "      <td>en</td>\n",
       "      <td>Avatar</td>\n",
       "      <td>79.931999</td>\n",
       "      <td>Action, Adventure, Fantasy, Science Fiction</td>\n",
       "      <td>United States of America, United Kingdom</td>\n",
       "      <td>2009</td>\n",
       "      <td>12</td>\n",
       "      <td>15</td>\n",
       "      <td>Action</td>\n",
       "      <td>2.686706e+09</td>\n",
       "    </tr>\n",
       "    <tr>\n",
       "      <th>3</th>\n",
       "      <td>24428</td>\n",
       "      <td>The Avengers</td>\n",
       "      <td>7.710</td>\n",
       "      <td>29166</td>\n",
       "      <td>2012-04-25</td>\n",
       "      <td>1.518816e+09</td>\n",
       "      <td>143</td>\n",
       "      <td>220000000.0</td>\n",
       "      <td>en</td>\n",
       "      <td>The Avengers</td>\n",
       "      <td>98.082001</td>\n",
       "      <td>Science Fiction, Action, Adventure</td>\n",
       "      <td>United States of America</td>\n",
       "      <td>2012</td>\n",
       "      <td>04</td>\n",
       "      <td>25</td>\n",
       "      <td>Science Fiction</td>\n",
       "      <td>1.298816e+09</td>\n",
       "    </tr>\n",
       "    <tr>\n",
       "      <th>4</th>\n",
       "      <td>293660</td>\n",
       "      <td>Deadpool</td>\n",
       "      <td>7.606</td>\n",
       "      <td>28894</td>\n",
       "      <td>2016-02-09</td>\n",
       "      <td>7.831000e+08</td>\n",
       "      <td>108</td>\n",
       "      <td>58000000.0</td>\n",
       "      <td>en</td>\n",
       "      <td>Deadpool</td>\n",
       "      <td>72.735001</td>\n",
       "      <td>Action, Adventure, Comedy</td>\n",
       "      <td>United States of America</td>\n",
       "      <td>2016</td>\n",
       "      <td>02</td>\n",
       "      <td>09</td>\n",
       "      <td>Action</td>\n",
       "      <td>7.251000e+08</td>\n",
       "    </tr>\n",
       "    <tr>\n",
       "      <th>...</th>\n",
       "      <td>...</td>\n",
       "      <td>...</td>\n",
       "      <td>...</td>\n",
       "      <td>...</td>\n",
       "      <td>...</td>\n",
       "      <td>...</td>\n",
       "      <td>...</td>\n",
       "      <td>...</td>\n",
       "      <td>...</td>\n",
       "      <td>...</td>\n",
       "      <td>...</td>\n",
       "      <td>...</td>\n",
       "      <td>...</td>\n",
       "      <td>...</td>\n",
       "      <td>...</td>\n",
       "      <td>...</td>\n",
       "      <td>...</td>\n",
       "      <td>...</td>\n",
       "    </tr>\n",
       "    <tr>\n",
       "      <th>431353</th>\n",
       "      <td>1192155</td>\n",
       "      <td>Floating World</td>\n",
       "      <td>0.000</td>\n",
       "      <td>0</td>\n",
       "      <td>2008-05-29</td>\n",
       "      <td>0.000000e+00</td>\n",
       "      <td>16</td>\n",
       "      <td>0.0</td>\n",
       "      <td>es</td>\n",
       "      <td>Mundo flotante</td>\n",
       "      <td>0.600000</td>\n",
       "      <td>Drama</td>\n",
       "      <td>Mexico</td>\n",
       "      <td>2008</td>\n",
       "      <td>05</td>\n",
       "      <td>29</td>\n",
       "      <td>Drama</td>\n",
       "      <td>0.000000e+00</td>\n",
       "    </tr>\n",
       "    <tr>\n",
       "      <th>431354</th>\n",
       "      <td>1192159</td>\n",
       "      <td>Taxiphone</td>\n",
       "      <td>0.000</td>\n",
       "      <td>0</td>\n",
       "      <td>2010-03-02</td>\n",
       "      <td>0.000000e+00</td>\n",
       "      <td>0</td>\n",
       "      <td>0.0</td>\n",
       "      <td>de</td>\n",
       "      <td>Taxiphone</td>\n",
       "      <td>0.600000</td>\n",
       "      <td>Drama</td>\n",
       "      <td>Algeria, Switzerland</td>\n",
       "      <td>2010</td>\n",
       "      <td>03</td>\n",
       "      <td>02</td>\n",
       "      <td>Drama</td>\n",
       "      <td>0.000000e+00</td>\n",
       "    </tr>\n",
       "    <tr>\n",
       "      <th>431355</th>\n",
       "      <td>1192151</td>\n",
       "      <td>Im Nordwind</td>\n",
       "      <td>0.000</td>\n",
       "      <td>0</td>\n",
       "      <td>2023-11-16</td>\n",
       "      <td>0.000000e+00</td>\n",
       "      <td>0</td>\n",
       "      <td>0.0</td>\n",
       "      <td>de</td>\n",
       "      <td>Im Nordwind</td>\n",
       "      <td>1.104000</td>\n",
       "      <td>Drama</td>\n",
       "      <td>Switzerland</td>\n",
       "      <td>2023</td>\n",
       "      <td>11</td>\n",
       "      <td>16</td>\n",
       "      <td>Drama</td>\n",
       "      <td>0.000000e+00</td>\n",
       "    </tr>\n",
       "    <tr>\n",
       "      <th>431356</th>\n",
       "      <td>1192123</td>\n",
       "      <td>Afonso Padilha: Nada Planejado</td>\n",
       "      <td>0.000</td>\n",
       "      <td>0</td>\n",
       "      <td>2023-10-15</td>\n",
       "      <td>0.000000e+00</td>\n",
       "      <td>0</td>\n",
       "      <td>0.0</td>\n",
       "      <td>pt</td>\n",
       "      <td>Afonso Padilha: Nada Planejado</td>\n",
       "      <td>1.960000</td>\n",
       "      <td>Comedy</td>\n",
       "      <td>Brazil</td>\n",
       "      <td>2023</td>\n",
       "      <td>10</td>\n",
       "      <td>15</td>\n",
       "      <td>Comedy</td>\n",
       "      <td>0.000000e+00</td>\n",
       "    </tr>\n",
       "    <tr>\n",
       "      <th>431357</th>\n",
       "      <td>1192154</td>\n",
       "      <td>Dead Ringer</td>\n",
       "      <td>0.000</td>\n",
       "      <td>0</td>\n",
       "      <td>2023-10-08</td>\n",
       "      <td>0.000000e+00</td>\n",
       "      <td>4</td>\n",
       "      <td>0.0</td>\n",
       "      <td>en</td>\n",
       "      <td>Dead Ringer</td>\n",
       "      <td>1.960000</td>\n",
       "      <td>Horror</td>\n",
       "      <td>Canada</td>\n",
       "      <td>2023</td>\n",
       "      <td>10</td>\n",
       "      <td>08</td>\n",
       "      <td>Horror</td>\n",
       "      <td>0.000000e+00</td>\n",
       "    </tr>\n",
       "  </tbody>\n",
       "</table>\n",
       "<p>423348 rows × 18 columns</p>\n",
       "</div>"
      ],
      "text/plain": [
       "             ID                           Title  Vote_AVG  Vote_count  \\\n",
       "0        157336                    Interstellar     8.417       32571   \n",
       "1           155                 The Dark Knight     8.512       30619   \n",
       "2         19995                          Avatar     7.573       29815   \n",
       "3         24428                    The Avengers     7.710       29166   \n",
       "4        293660                        Deadpool     7.606       28894   \n",
       "...         ...                             ...       ...         ...   \n",
       "431353  1192155                  Floating World     0.000           0   \n",
       "431354  1192159                       Taxiphone     0.000           0   \n",
       "431355  1192151                     Im Nordwind     0.000           0   \n",
       "431356  1192123  Afonso Padilha: Nada Planejado     0.000           0   \n",
       "431357  1192154                     Dead Ringer     0.000           0   \n",
       "\n",
       "       Release_date       Revenue  Runtime       Budget original_language  \\\n",
       "0        2014-11-05  7.017292e+08      169  165000000.0                en   \n",
       "1        2008-07-16  1.004558e+09      152  185000000.0                en   \n",
       "2        2009-12-15  2.923706e+09      162  237000000.0                en   \n",
       "3        2012-04-25  1.518816e+09      143  220000000.0                en   \n",
       "4        2016-02-09  7.831000e+08      108   58000000.0                en   \n",
       "...             ...           ...      ...          ...               ...   \n",
       "431353   2008-05-29  0.000000e+00       16          0.0                es   \n",
       "431354   2010-03-02  0.000000e+00        0          0.0                de   \n",
       "431355   2023-11-16  0.000000e+00        0          0.0                de   \n",
       "431356   2023-10-15  0.000000e+00        0          0.0                pt   \n",
       "431357   2023-10-08  0.000000e+00        4          0.0                en   \n",
       "\n",
       "                        Original_title  Popularity  \\\n",
       "0                         Interstellar  140.240997   \n",
       "1                      The Dark Knight  130.643005   \n",
       "2                               Avatar   79.931999   \n",
       "3                         The Avengers   98.082001   \n",
       "4                             Deadpool   72.735001   \n",
       "...                                ...         ...   \n",
       "431353                  Mundo flotante    0.600000   \n",
       "431354                       Taxiphone    0.600000   \n",
       "431355                     Im Nordwind    1.104000   \n",
       "431356  Afonso Padilha: Nada Planejado    1.960000   \n",
       "431357                     Dead Ringer    1.960000   \n",
       "\n",
       "                                             Genres  \\\n",
       "0                 Adventure, Drama, Science Fiction   \n",
       "1                    Drama, Action, Crime, Thriller   \n",
       "2       Action, Adventure, Fantasy, Science Fiction   \n",
       "3                Science Fiction, Action, Adventure   \n",
       "4                         Action, Adventure, Comedy   \n",
       "...                                             ...   \n",
       "431353                                        Drama   \n",
       "431354                                        Drama   \n",
       "431355                                        Drama   \n",
       "431356                                       Comedy   \n",
       "431357                                       Horror   \n",
       "\n",
       "                            Production_countries  Year Month Day  \\\n",
       "0       United Kingdom, United States of America  2014    11  05   \n",
       "1       United Kingdom, United States of America  2008    07  16   \n",
       "2       United States of America, United Kingdom  2009    12  15   \n",
       "3                       United States of America  2012    04  25   \n",
       "4                       United States of America  2016    02  09   \n",
       "...                                          ...   ...   ...  ..   \n",
       "431353                                    Mexico  2008    05  29   \n",
       "431354                      Algeria, Switzerland  2010    03  02   \n",
       "431355                               Switzerland  2023    11  16   \n",
       "431356                                    Brazil  2023    10  15   \n",
       "431357                                    Canada  2023    10  08   \n",
       "\n",
       "          Primary_genre        profit  \n",
       "0             Adventure  5.367292e+08  \n",
       "1                 Drama  8.195584e+08  \n",
       "2                Action  2.686706e+09  \n",
       "3       Science Fiction  1.298816e+09  \n",
       "4                Action  7.251000e+08  \n",
       "...                 ...           ...  \n",
       "431353            Drama  0.000000e+00  \n",
       "431354            Drama  0.000000e+00  \n",
       "431355            Drama  0.000000e+00  \n",
       "431356           Comedy  0.000000e+00  \n",
       "431357           Horror  0.000000e+00  \n",
       "\n",
       "[423348 rows x 18 columns]"
      ]
     },
     "execution_count": 45,
     "metadata": {},
     "output_type": "execute_result"
    }
   ],
   "source": [
    "group.head()"
   ]
  },
  {
   "cell_type": "code",
   "execution_count": null,
   "id": "cac26892",
   "metadata": {},
   "outputs": [],
   "source": []
  },
  {
   "cell_type": "markdown",
   "id": "ecfa85af",
   "metadata": {},
   "source": [
    "### Correlation Analysis\n",
    "###### Correlation between numerical features."
   ]
  },
  {
   "cell_type": "code",
   "execution_count": null,
   "id": "51648911",
   "metadata": {
    "scrolled": true
   },
   "outputs": [],
   "source": [
    "# Calculating the correlation matrix\n",
    "correlation_matrix = movies_df[['Budget','Revenue','Runtime', 'Vote_count','Vote_AVG', 'Release_date', 'Popularity']].corr()\n",
    "\n",
    "# Plotting the heatmap for correlation matrix\n",
    "plt.figure(figsize=(12, 8))\n",
    "sns.heatmap(correlation_matrix, annot=True, cmap=\"coolwarm\", fmt=\".2f\", linewidths=.5)\n",
    "plt.title('Correlation Matrix of Numerical Features')\n",
    "plt.show()"
   ]
  },
  {
   "cell_type": "markdown",
   "id": "c241a2aa",
   "metadata": {},
   "source": [
    "##### The heatmap above displays the correlation between various numerical features:\n",
    "###### Budget and Revenue: There is a positive correlation 0.72 between budget and revenue, indicating that movies with higher budgets tend to generate higher revenues.\n",
    "###### Runtime and Revenue: The correlation between runtime and revenue is relatively low 0.06.\n",
    "###### Vote count and Revenue: There is a positive correlation 0.78 between budget and revenue, indicating that movies with higher Vote tend to generate higher revenues.\n",
    "###### Release Year and Revenue: There is also a low correlation 0.05 between release year and revenue."
   ]
  },
  {
   "cell_type": "markdown",
   "id": "0baa7997",
   "metadata": {},
   "source": [
    "### Revenue Analysis\n",
    "- Revenue vs. Budget.\n",
    "- Revenue vs. Runtime."
   ]
  },
  {
   "cell_type": "code",
   "execution_count": 32,
   "id": "e310d38f",
   "metadata": {},
   "outputs": [
    {
     "data": {
      "image/png": "[encoded data removed]",
      "text/plain": [
       "<Figure size 720x432 with 1 Axes>"
      ]
     },
     "metadata": {},
     "output_type": "display_data"
    },
    {
     "data": {
      "image/png": "[encoded data removed]",
      "text/plain": [
       "<Figure size 720x432 with 1 Axes>"
      ]
     },
     "metadata": {},
     "output_type": "display_data"
    }
   ],
   "source": [
    "# Revenue vs Budget\n",
    "plt.figure(figsize=(10, 6))\n",
    "sns.scatterplot(data=movies_df, x='Budget', y='Revenue', color='blue', alpha=0.6)\n",
    "plt.title('Revenue vs Budget')\n",
    "plt.xlabel('Budget')\n",
    "plt.ylabel('Revenue')\n",
    "plt.xlim(0,400000000)\n",
    "plt.show()\n",
    "\n",
    "# Revenue vs Runtime\n",
    "plt.figure(figsize=(10, 6))\n",
    "sns.scatterplot(data=movies_df, x='Runtime', y='Revenue', color='green', alpha=0.6)\n",
    "plt.title('Revenue vs Runtime')\n",
    "plt.xlabel('Runtime')\n",
    "plt.ylabel('Revenue')\n",
    "plt.xlim(0,700)\n",
    "plt.show()"
   ]
  },
  {
   "cell_type": "markdown",
   "id": "4be32f75",
   "metadata": {},
   "source": [
    "### The scatter plots above display the relationship between revenue and other features:\n",
    "#### Revenue vs. Budget:\n",
    "###### There is a clear trend indicating that movies with higher budgets generally tend to generate higher revenues.\n",
    "###### There are also instances of movies with low budgets generating high revenues, indicating the presence of some successful low-budget movies.\n",
    "#### Revenue vs. Runtime:\n",
    "###### There is no distinct trend observed between revenue and runtime."
   ]
  },
  {
   "cell_type": "code",
   "execution_count": null,
   "id": "5dee5ae4",
   "metadata": {},
   "outputs": [],
   "source": [
    "#Question 1: How many movies were released on 2022-01-01?\n",
    "#Question 2: How many movies were released in 2022?¶\n",
    "#Question 3: How much revenue in total was earned in 2022?\n",
    "#Question 4: What is the average and the max vote for movies in 2022?\n",
    "#Question 5: How many movies are released in 2022 for each original language? Sort the results in descending order.\n",
    "#Question 6: Which day had the most movies released in 2022? Show the top 5 days.\n",
    "#Question 7: W e most movies released in the dataset? Show the top 5 years."
   ]
  },
  {
   "cell_type": "code",
   "execution_count": null,
   "id": "1aee8cdd",
   "metadata": {},
   "outputs": [],
   "source": [
    "#Question 1: How many movies were released on 2022-01-01?\n",
    "from pyspark.sql.functions import col\n",
    "\n",
    "movies.select('Title','Release_date').where(col('Release_date') =='2022-01-01').show()"
   ]
  },
  {
   "cell_type": "code",
   "execution_count": null,
   "id": "21d11737",
   "metadata": {},
   "outputs": [],
   "source": [
    "#Question 2: How many movies were released in 2022?¶\n",
    "movies2022 = movies.where(col('Release_date') >='2022-01-01').where(col('Release_date') <='2022-12-31')\n",
    "\n",
    "movies2022.count()"
   ]
  },
  {
   "cell_type": "code",
   "execution_count": null,
   "id": "c50f87e8",
   "metadata": {},
   "outputs": [],
   "source": [
    "#Question 3: How much revenue in total was earned in 2022?\n",
    "\n",
    "import pyspark.sql.functions as F\n",
    "\n",
    "movies2022.select(F.sum('Revenue')).show()"
   ]
  },
  {
   "cell_type": "code",
   "execution_count": null,
   "id": "31d1f34d",
   "metadata": {},
   "outputs": [],
   "source": [
    "#Question 4: What is the average and the max vote for movies in 2022?\n",
    "from pyspark.sql.functions import avg\n",
    "movies2022.select(avg('Vote_AVG'),F.max('Vote_AVG')).show()"
   ]
  },
  {
   "cell_type": "code",
   "execution_count": null,
   "id": "b741b8e3",
   "metadata": {},
   "outputs": [],
   "source": [
    "#Question 5: How many movies are released in 2022 for each original language? Sort the results in descending order.\n",
    "from pyspark.sql.functions import countDistinct\n",
    "\n",
    "result = movies2022.groupby('Genres').agg(countDistinct('ID').alias('count_id'))\n",
    "result.sort('count_id', ascending=False).show()"
   ]
  },
  {
   "cell_type": "code",
   "execution_count": null,
   "id": "09b02715",
   "metadata": {},
   "outputs": [],
   "source": [
    "#Question 6: Which day had the most movies released in 2022? Show the top 5 days.\n",
    "top_day = movies2022.groupby('Release_date').agg(countDistinct('ID').alias('count_id'))\n",
    "top_day.sort('count_id', ascending=False).limit(5).show()"
   ]
  },
  {
   "cell_type": "code",
   "execution_count": null,
   "id": "5b090d54",
   "metadata": {},
   "outputs": [],
   "source": [
    "#Question 6: Which day had the most movies released in 2022? Show the top 5 days.\n",
    "top_day = movies2022.groupby('Year').agg(countDistinct('ID').alias('count_id'))\n",
    "top_day.show()"
   ]
  },
  {
   "cell_type": "code",
   "execution_count": null,
   "id": "b2685dec",
   "metadata": {},
   "outputs": [],
   "source": [
    "#Question 7: Which year had the most movies released in the dataset? Show the top 5 years.\n",
    "\n",
    "day_year = movies.withColumn('release_year',split(movies['Release_date'],'-').getItem(0))\n",
    "result = day_year.groupby('release_year').agg(countDistinct('ID').alias('count_id')).toPandas()\n",
    "#result.sort('count_id',ascending=False).limit(5).show()\n",
    "result = result.sort_values(by='count_id', ascending=False).head(10)\n",
    "result"
   ]
  },
  {
   "cell_type": "markdown",
   "id": "0660fa12",
   "metadata": {},
   "source": [
    "### Thể loại phim nào có doanh thu cao nhất lấy top\n"
   ]
  },
  {
   "cell_type": "code",
   "execution_count": null,
   "id": "3481067a",
   "metadata": {},
   "outputs": [],
   "source": [
    "top_genres =movies.select('Genres','Revenue').groupby('Genres').agg({'Revenue':'sum'}).toPandas()\n",
    "top_genres.head(5)"
   ]
  },
  {
   "cell_type": "markdown",
   "id": "0423e1ed",
   "metadata": {},
   "source": [
    "## vẽ chart"
   ]
  },
  {
   "cell_type": "markdown",
   "id": "c08fc85a",
   "metadata": {},
   "source": [
    "### Quốc gia nào sản xuất fim nhiều nhất"
   ]
  },
  {
   "cell_type": "code",
   "execution_count": null,
   "id": "b5f65478",
   "metadata": {},
   "outputs": [],
   "source": []
  },
  {
   "cell_type": "code",
   "execution_count": null,
   "id": "acbdd193",
   "metadata": {},
   "outputs": [],
   "source": []
  },
  {
   "cell_type": "markdown",
   "id": "76b5d8dd",
   "metadata": {},
   "source": [
    "### ML"
   ]
  },
  {
   "cell_type": "code",
   "execution_count": null,
   "id": "d5ac9d88",
   "metadata": {},
   "outputs": [],
   "source": [
    "\n"
   ]
  },
  {
   "cell_type": "code",
   "execution_count": null,
   "id": "4f4d8de0",
   "metadata": {},
   "outputs": [],
   "source": [
    "linear_ml =movies.select(\n",
    " 'Vote_AVG',\n",
    " 'Vote_count',\n",
    " 'Revenue',\n",
    " 'Runtime',\n",
    " 'Budget',\n",
    " 'Popularity')"
   ]
  },
  {
   "cell_type": "code",
   "execution_count": null,
   "id": "3ded8214",
   "metadata": {},
   "outputs": [],
   "source": [
    "linear_ml.toPandas().describe()"
   ]
  },
  {
   "cell_type": "code",
   "execution_count": null,
   "id": "2fc7f568",
   "metadata": {},
   "outputs": [],
   "source": [
    "## phân tích mối quan hệ, vẽ scatter hoặc sử dụng corr\n",
    "linear_ml.corr()"
   ]
  },
  {
   "cell_type": "code",
   "execution_count": null,
   "id": "68aaaec6",
   "metadata": {},
   "outputs": [],
   "source": [
    "plt.figure(figsize=(10,7))\n",
    "sns.heatmap(linear_ml.corr(),annot=True, cmap=plt.cm.Reds)\n",
    "plt.show()"
   ]
  },
  {
   "cell_type": "code",
   "execution_count": null,
   "id": "51bfd900",
   "metadata": {},
   "outputs": [],
   "source": [
    "## check null values\n",
    "linear_ml.isnull().sum()"
   ]
  },
  {
   "cell_type": "code",
   "execution_count": null,
   "id": "47731da2",
   "metadata": {},
   "outputs": [],
   "source": []
  },
  {
   "cell_type": "code",
   "execution_count": null,
   "id": "dcec4329",
   "metadata": {},
   "outputs": [],
   "source": [
    "from pyspark.ml.feature import VectorAssembler\n",
    "#assembler=VectorAssembler(inputCols=['Vote_AVG','Vote_count','Runtime','Budget','Popularity'], outputCol='Features')\n",
    "vectorassembler = ['Vote_AVG','Vote_count','Runtime','Budget','Popularity']\n",
    "assembler=VectorAssembler(inputCols=vectorassembler, outputCol='features')"
   ]
  },
  {
   "cell_type": "code",
   "execution_count": null,
   "id": "bbdd30b2",
   "metadata": {},
   "outputs": [],
   "source": [
    "#transform each element of the input array + Independant features column\n",
    "output=assembler.transform(linear_ml)"
   ]
  },
  {
   "cell_type": "code",
   "execution_count": null,
   "id": "acf19a72",
   "metadata": {},
   "outputs": [],
   "source": [
    "final_data=output.select('features','Revenue')\n",
    "final_data.show(2)"
   ]
  },
  {
   "cell_type": "code",
   "execution_count": null,
   "id": "ce19862c",
   "metadata": {},
   "outputs": [],
   "source": [
    "# Split into Train and Test set\n",
    "train_X,test_X = final_data.randomSplit([0.7,0.3])"
   ]
  },
  {
   "cell_type": "code",
   "execution_count": null,
   "id": "2f9a386f",
   "metadata": {},
   "outputs": [],
   "source": [
    "train_X.describe().show()"
   ]
  },
  {
   "cell_type": "code",
   "execution_count": null,
   "id": "fd2ddac2",
   "metadata": {},
   "outputs": [],
   "source": [
    "test_X.describe().show()"
   ]
  },
  {
   "cell_type": "code",
   "execution_count": null,
   "id": "f9d6d66a",
   "metadata": {},
   "outputs": [],
   "source": [
    "from pyspark.ml.regression import LinearRegression"
   ]
  },
  {
   "cell_type": "code",
   "execution_count": null,
   "id": "0ee707b1",
   "metadata": {},
   "outputs": [],
   "source": [
    "lm = LinearRegression(labelCol='Revenue')"
   ]
  },
  {
   "cell_type": "code",
   "execution_count": null,
   "id": "74351ca2",
   "metadata": {},
   "outputs": [],
   "source": [
    "model = lm.fit(train_X)"
   ]
  },
  {
   "cell_type": "code",
   "execution_count": null,
   "id": "c4f21bb8",
   "metadata": {},
   "outputs": [],
   "source": [
    "model.coefficients"
   ]
  },
  {
   "cell_type": "code",
   "execution_count": null,
   "id": "e274d18b",
   "metadata": {},
   "outputs": [],
   "source": [
    "## hệ số chặn\n",
    "model.intercept"
   ]
  },
  {
   "cell_type": "code",
   "execution_count": null,
   "id": "057bb697",
   "metadata": {},
   "outputs": [],
   "source": [
    "res = model.evaluate(test_X)"
   ]
  },
  {
   "cell_type": "code",
   "execution_count": null,
   "id": "06280636",
   "metadata": {},
   "outputs": [],
   "source": [
    "res.predictions.show(20)"
   ]
  },
  {
   "cell_type": "code",
   "execution_count": null,
   "id": "dcbb0330",
   "metadata": {},
   "outputs": [],
   "source": []
  },
  {
   "cell_type": "code",
   "execution_count": null,
   "id": "b01f6fc9",
   "metadata": {},
   "outputs": [],
   "source": [
    "#unlabel = test_X.select('features')"
   ]
  },
  {
   "cell_type": "code",
   "execution_count": null,
   "id": "75990ed2",
   "metadata": {},
   "outputs": [],
   "source": [
    "#predict = model.transform(unlabel)\n",
    "#predict.show()"
   ]
  },
  {
   "cell_type": "code",
   "execution_count": null,
   "id": "a160c827",
   "metadata": {},
   "outputs": [],
   "source": [
    "print('MSE: ',res.meanSquaredError) # sai số bình phương trung bình\n",
    "print('RMSE: ',res.rootMeanSquaredError) # đánh giá độ lệch trung bình giữa giá trị dự đón và giá trị thực thế\n",
    "print('R2: ',res.r2) # r square = 0.7 > 0.5 mô hình tốt \n",
    "print('Adj R2: ',res.r2adj) # R hiệu chỉnh"
   ]
  },
  {
   "cell_type": "markdown",
   "id": "99a09a45",
   "metadata": {},
   "source": [
    "#### Root Mean Squared Error (RMSE) on test data =13254218.846682895"
   ]
  },
  {
   "cell_type": "code",
   "execution_count": null,
   "id": "c45ed501",
   "metadata": {},
   "outputs": [],
   "source": []
  },
  {
   "cell_type": "code",
   "execution_count": null,
   "id": "c93f27ea",
   "metadata": {},
   "outputs": [],
   "source": []
  },
  {
   "cell_type": "code",
   "execution_count": null,
   "id": "860f914b",
   "metadata": {},
   "outputs": [],
   "source": []
  },
  {
   "cell_type": "code",
   "execution_count": null,
   "id": "38ba5d8d",
   "metadata": {},
   "outputs": [],
   "source": []
  },
  {
   "cell_type": "code",
   "execution_count": null,
   "id": "2faf42ca",
   "metadata": {},
   "outputs": [],
   "source": []
  },
  {
   "cell_type": "code",
   "execution_count": null,
   "id": "afe3611f",
   "metadata": {},
   "outputs": [],
   "source": []
  }
 ],
 "metadata": {
  "kernelspec": {
   "display_name": "Python 3 (ipykernel)",
   "language": "python",
   "name": "python3"
  },
  "language_info": {
   "codemirror_mode": {
    "name": "ipython",
    "version": 3
   },
   "file_extension": ".py",
   "mimetype": "text/x-python",
   "name": "python",
   "nbconvert_exporter": "python",
   "pygments_lexer": "ipython3",
   "version": "3.9.7"
  }
 },
 "nbformat": 4,
 "nbformat_minor": 5
}
